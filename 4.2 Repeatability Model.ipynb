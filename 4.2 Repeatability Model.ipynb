{
 "cells": [
  {
   "cell_type": "markdown",
   "metadata": {},
   "source": [
    "# Section 4.2 Repeatability Model\n",
    "Tianjing Zhao\n",
    "\n",
    "---\n",
    "## What is \"Repeated records\" (over time)?\n",
    "* Multiple records on same trait on an animal.\n",
    "* eg. milk yield\n",
    "* traits that are repeatable are also influenced by permanent environment"
   ]
  },
  {
   "cell_type": "markdown",
   "metadata": {},
   "source": [
    "## Introduction\n",
    "$y - \\mu = G + E$  \n",
    "\n",
    "$y - \\mu = G + pe + te$  \n",
    "\n",
    "Where $pe$ is <strong>p</strong>ermanent environment effect, $te$ is <strong>t</strong>emporary environment effect.\n",
    "\n",
    "\n",
    "$ var(y) =  var(g) + var(pe) + var(te)$  \n",
    "\n",
    "Where \n",
    "* $var(g) =$ genetic variance \n",
    "* $var(pe) =$ variance due to permanent environment effect\n",
    "* $var(te) =$ variance due to temporary environment effect"
   ]
  },
  {
   "cell_type": "markdown",
   "metadata": {},
   "source": [
    "\n",
    "## Repeatability($t$)\n",
    "\n",
    "* $t = \\frac{var(g)+var(pe)}{var(y)} = \\frac{\\sigma^2_g + \\sigma^2_{pe}}{\\sigma^2_y}$ \n",
    "* Extention of heritability, upper bound of heritability"
   ]
  },
  {
   "cell_type": "markdown",
   "metadata": {},
   "source": [
    "## Model\n",
    "$y = X * b + Z * a + W * pe + e$  \n",
    "Where  \n",
    "* $y$ = vector of observations\n",
    "* $b$ = vector of fixed effects\n",
    "* $a$ = vector of addtive random animal effects\n",
    "* $pe$ =  vector of random permanent environmental effects\n",
    "* $e$ = vector of random residual effect\n",
    "* $X,Z,W$ = incidence matrix  \n",
    "\n",
    "and\n",
    "\n",
    "* $var(pe) = I\\sigma^2_{pe}$\n",
    "* $var(e) = I \\sigma^2_e =R$\n",
    "* $var(a) = A \\sigma^2_a$\n",
    "* $var(y) = ZAZ'\\sigma^2_a + WI\\sigma^2_{pe}W'+ R$"
   ]
  },
  {
   "cell_type": "markdown",
   "metadata": {},
   "source": [
    "## MME\n",
    "\n",
    "<center>$\\begin{bmatrix}\n",
    "X'X & X'Z & X'W \\\\\n",
    "Z'X & Z'Z + A^{-1}\\alpha_1 & Z'W \\\\\n",
    "W'X & W'Z & W'W+I\\alpha_2\n",
    "\\end{bmatrix}$\n",
    "$\\begin{bmatrix}\n",
    "\\hat{b} \\\\\n",
    "\\hat{a} \\\\\n",
    "\\hat{pe}\n",
    "\\end{bmatrix}$\n",
    "=\n",
    "$\\begin{bmatrix}\n",
    "X'y \\\\\n",
    "Z'y \\\\\n",
    "W'y\n",
    "\\end{bmatrix}$</center>\n",
    "\n",
    "Where\n",
    "\n",
    "$\\alpha_1 = \\frac{\\sigma^2_e}{\\sigma^2_a}$\n",
    "\n",
    "$\\alpha_2 = \\frac{\\sigma^2_e}{\\sigma^2_{pe}}$"
   ]
  },
  {
   "cell_type": "markdown",
   "metadata": {},
   "source": [
    "## Example"
   ]
  },
  {
   "cell_type": "code",
   "execution_count": 21,
   "metadata": {},
   "outputs": [
    {
     "data": {
      "text/html": [
       "<table class=\"data-frame\"><thead><tr><th></th><th>Cow</th><th>Sire</th><th>Dam</th><th>Parity</th><th>HYS</th><th>Fat_yield</th></tr><tr><th></th><th>Int64</th><th>Int64</th><th>Int64</th><th>Int64</th><th>Int64</th><th>Int64</th></tr></thead><tbody><p>10 rows × 6 columns</p><tr><th>1</th><td>4</td><td>1</td><td>2</td><td>1</td><td>1</td><td>201</td></tr><tr><th>2</th><td>4</td><td>1</td><td>2</td><td>2</td><td>3</td><td>280</td></tr><tr><th>3</th><td>5</td><td>3</td><td>2</td><td>1</td><td>1</td><td>150</td></tr><tr><th>4</th><td>5</td><td>3</td><td>2</td><td>2</td><td>4</td><td>200</td></tr><tr><th>5</th><td>6</td><td>1</td><td>5</td><td>1</td><td>2</td><td>160</td></tr><tr><th>6</th><td>6</td><td>1</td><td>5</td><td>2</td><td>3</td><td>190</td></tr><tr><th>7</th><td>7</td><td>3</td><td>4</td><td>1</td><td>1</td><td>180</td></tr><tr><th>8</th><td>7</td><td>3</td><td>4</td><td>2</td><td>3</td><td>250</td></tr><tr><th>9</th><td>8</td><td>1</td><td>7</td><td>1</td><td>2</td><td>285</td></tr><tr><th>10</th><td>8</td><td>1</td><td>7</td><td>2</td><td>4</td><td>300</td></tr></tbody></table>"
      ],
      "text/latex": [
       "\\begin{tabular}{r|cccccc}\n",
       "\t& Cow & Sire & Dam & Parity & HYS & Fat\\_yield\\\\\n",
       "\t\\hline\n",
       "\t1 & 4 & 1 & 2 & 1 & 1 & 201 \\\\\n",
       "\t2 & 4 & 1 & 2 & 2 & 3 & 280 \\\\\n",
       "\t3 & 5 & 3 & 2 & 1 & 1 & 150 \\\\\n",
       "\t4 & 5 & 3 & 2 & 2 & 4 & 200 \\\\\n",
       "\t5 & 6 & 1 & 5 & 1 & 2 & 160 \\\\\n",
       "\t6 & 6 & 1 & 5 & 2 & 3 & 190 \\\\\n",
       "\t7 & 7 & 3 & 4 & 1 & 1 & 180 \\\\\n",
       "\t8 & 7 & 3 & 4 & 2 & 3 & 250 \\\\\n",
       "\t9 & 8 & 1 & 7 & 1 & 2 & 285 \\\\\n",
       "\t10 & 8 & 1 & 7 & 2 & 4 & 300 \\\\\n",
       "\\end{tabular}\n"
      ],
      "text/plain": [
       "10×6 DataFrame\n",
       "│ Row │ Cow   │ Sire  │ Dam   │ Parity │ HYS   │ Fat_yield │\n",
       "│     │ \u001b[90mInt64\u001b[39m │ \u001b[90mInt64\u001b[39m │ \u001b[90mInt64\u001b[39m │ \u001b[90mInt64\u001b[39m  │ \u001b[90mInt64\u001b[39m │ \u001b[90mInt64\u001b[39m     │\n",
       "├─────┼───────┼───────┼───────┼────────┼───────┼───────────┤\n",
       "│ 1   │ 4     │ 1     │ 2     │ 1      │ 1     │ 201       │\n",
       "│ 2   │ 4     │ 1     │ 2     │ 2      │ 3     │ 280       │\n",
       "│ 3   │ 5     │ 3     │ 2     │ 1      │ 1     │ 150       │\n",
       "│ 4   │ 5     │ 3     │ 2     │ 2      │ 4     │ 200       │\n",
       "│ 5   │ 6     │ 1     │ 5     │ 1      │ 2     │ 160       │\n",
       "│ 6   │ 6     │ 1     │ 5     │ 2      │ 3     │ 190       │\n",
       "│ 7   │ 7     │ 3     │ 4     │ 1      │ 1     │ 180       │\n",
       "│ 8   │ 7     │ 3     │ 4     │ 2      │ 3     │ 250       │\n",
       "│ 9   │ 8     │ 1     │ 7     │ 1      │ 2     │ 285       │\n",
       "│ 10  │ 8     │ 1     │ 7     │ 2      │ 4     │ 300       │"
      ]
     },
     "execution_count": 21,
     "metadata": {},
     "output_type": "execute_result"
    }
   ],
   "source": [
    "using DataFrames, LinearAlgebra, Statistics\n",
    "\n",
    "data = DataFrame(Cow=[4,4,5,5,6,6,7,7,8,8], Sire=[1,1,3,3,1,1,3,3,1,1], Dam=[2,2,2,2,5,5,4,4,7,7], \n",
    "                 Parity=[1,2,1,2,1,2,1,2,1,2], HYS=[1,3,1,4,2,3,1,3,2,4], \n",
    "                 Fat_yield=[201,280,150,200,160,190,180,250,285,300])"
   ]
  },
  {
   "cell_type": "markdown",
   "metadata": {},
   "source": [
    "NOTE: `HYS1` and `HYS2` are always in `Parity1`, `HYS3` and `HYS4` are always in `Parity2`"
   ]
  },
  {
   "cell_type": "markdown",
   "metadata": {},
   "source": [
    "Fixed effect `Parity` and `HYS`\n",
    "\n",
    "$X * b=\n",
    " \\begin{bmatrix}\n",
    "   0 & 1 & 0 & 0 & 0 & 1 \\\\\n",
    "   1 & 0 & 0 & 1 & 0 & 0 \\\\\n",
    "   0 & 1 & 0 & 0 & 0 & 1 \\\\\n",
    "   1 & 0 & 1 & 0 & 0 & 0 \\\\\n",
    "   0 & 1 & 0 & 0 & 1 & 0 \\\\\n",
    "   1 & 0 & 0 & 1 & 0 & 0 \\\\\n",
    "   0 & 1 & 0 & 0 & 0 & 1 \\\\\n",
    "   1 & 0 & 0 & 1 & 0 & 0 \\\\\n",
    "   0 & 1 & 0 & 0 & 1 & 0 \\\\\n",
    "   1 & 0 & 1 & 0 & 0 & 0 \\\\\n",
    "  \\end{bmatrix} \n",
    " * \n",
    " \\begin{bmatrix}\n",
    " parity2 \\\\\n",
    " parity1 \\\\\n",
    " HYS4\\\\\n",
    " HYS3\\\\\n",
    " HYS2\\\\\n",
    " HYS1\\\\\n",
    " \\end{bmatrix} \n",
    " $"
   ]
  },
  {
   "cell_type": "markdown",
   "metadata": {},
   "source": [
    "Random effect `animal` and `permanent environment`\n",
    "\n",
    "$Z * a=\n",
    " \\begin{bmatrix}\n",
    "   0 & 0 & 0 & 0 & 1 & 0 & 0 & 0\\\\\n",
    "   0 & 0 & 0 & 0 & 1 & 0 & 0 & 0\\\\\n",
    "   0 & 0 & 0 & 1 & 0 & 0 & 0 & 0\\\\\n",
    "   0 & 0 & 0 & 1 & 0 & 0 & 0 & 0\\\\\n",
    "   0 & 0 & 1 & 0 & 0 & 0 & 0 & 0\\\\\n",
    "   0 & 0 & 1 & 0 & 0 & 0 & 0 & 0\\\\\n",
    "   0 & 1 & 0 & 0 & 0 & 0 & 0 & 0\\\\\n",
    "   0 & 1 & 0 & 0 & 0 & 0 & 0 & 0\\\\\n",
    "   1 & 0 & 0 & 0 & 0 & 0 & 0 & 0\\\\\n",
    "   1 & 0 & 0 & 0 & 0 & 0 & 0 & 0\\\\\n",
    "  \\end{bmatrix} \n",
    " * \n",
    " \\begin{bmatrix}\n",
    " animal8 \\\\\n",
    " animal7 \\\\\n",
    " anima6\\\\\n",
    " animal5\\\\\n",
    " animal4\\\\\n",
    " animal3\\\\\n",
    " animal2\\\\\n",
    " animal1\\\\\n",
    " \\end{bmatrix} \n",
    " $\n",
    " \n",
    "$W * pe=\n",
    " \\begin{bmatrix}\n",
    "   0 & 0 & 0 & 0 & 1 \\\\\n",
    "   0 & 0 & 0 & 0 & 1 \\\\\n",
    "   0 & 0 & 0 & 1 & 0 \\\\\n",
    "   0 & 0 & 0 & 1 & 0 \\\\\n",
    "   0 & 0 & 1 & 0 & 0 \\\\\n",
    "   0 & 0 & 1 & 0 & 0 \\\\\n",
    "   0 & 1 & 0 & 0 & 0 \\\\\n",
    "   0 & 1 & 0 & 0 & 0 \\\\\n",
    "   1 & 0 & 0 & 0 & 0 \\\\\n",
    "   1 & 0 & 0 & 0 & 0 \\\\\n",
    "  \\end{bmatrix} \n",
    " * \n",
    " \\begin{bmatrix}\n",
    " pe8 \\\\\n",
    " pe7 \\\\\n",
    " pe6\\\\\n",
    " pe5\\\\\n",
    " pe4\\\\\n",
    " \\end{bmatrix} \n",
    " $"
   ]
  },
  {
   "cell_type": "markdown",
   "metadata": {},
   "source": [
    "## Calculation"
   ]
  },
  {
   "cell_type": "code",
   "execution_count": 22,
   "metadata": {},
   "outputs": [],
   "source": [
    "vare=28\n",
    "vara=20\n",
    "varpe=12\n",
    "\n",
    "alpha1=vare/vara\n",
    "alpha2=vare/varpe\n",
    "\n",
    "A_inv =[2.5 0.5 0.0 -1.0 0.5 -1.0 0.5 -1.0\n",
    "        0.5 1.5 0.0 -1.0 0.0 0.0  0.0  0.0\n",
    "        0.0 0.0 1.83 0.5 -0.67 0.0  -1.0 0.0\n",
    "        -1.0 -1.0 0.5 2.5 0.0 0.0 -1.0 0.0\n",
    "        0.5 0.0 -0.67 0.0 1.83 -1.0 0.0  0.0\n",
    "        -1.0 0.0 0.0 0.0 -1.0 2.0 0.0  0.0\n",
    "        0.5 0.0 -1.0 -1.0 0.0 0.0 2.5 -1.0\n",
    "        -1.0 0.0 0.0 0.0 0.0 0.0 -1.0 2.0]\n",
    "Z=  [0 0 0 0 1 0 0 0 \n",
    "     0 0 0 0 1 0 0 0\n",
    "     0 0 0 1 0 0 0 0\n",
    "     0 0 0 1 0 0 0 0\n",
    "     0 0 1 0 0 0 0 0\n",
    "     0 0 1 0 0 0 0 0\n",
    "     0 1 0 0 0 0 0 0\n",
    "     0 1 0 0 0 0 0 0\n",
    "     1 0 0 0 0 0 0 0\n",
    "     1 0 0 0 0 0 0 0]\n",
    "\n",
    "W=Z[:,1:5]; #animal 1 2 3 don't have pe\n",
    "\n",
    "X=[0 1 0 0 0 1\n",
    "   1 0 0 1 0 0\n",
    "   0 1 0 0 0 1\n",
    "   1 0 1 0 0 0\n",
    "   0 1 0 0 1 0\n",
    "   1 0 0 1 0 0\n",
    "   0 1 0 0 0 1\n",
    "   1 0 0 1 0 0\n",
    "   0 1 0 0 1 0\n",
    "   1 0 1 0 0 0]\n",
    "y=data[:Fat_yield];"
   ]
  },
  {
   "cell_type": "code",
   "execution_count": 23,
   "metadata": {},
   "outputs": [],
   "source": [
    "LHS=[X'X X'Z X'W\n",
    "     Z'X Z'Z+A_inv*alpha1 Z'W\n",
    "     W'X W'Z W'W+I*alpha2]\n",
    "LHS_inv = inv(LHS);"
   ]
  },
  {
   "cell_type": "code",
   "execution_count": 24,
   "metadata": {},
   "outputs": [],
   "source": [
    "RHS=[X'y\n",
    "     Z'y\n",
    "     W'y];"
   ]
  },
  {
   "cell_type": "code",
   "execution_count": 25,
   "metadata": {},
   "outputs": [],
   "source": [
    "res = LHS_inv*RHS;"
   ]
  },
  {
   "cell_type": "code",
   "execution_count": 26,
   "metadata": {},
   "outputs": [],
   "source": [
    "#para=[b,a,pe]\n",
    "para=[\"parity2\",\"parity1\",\"HYS4\",\"HYS3\",\"HYS2\",\"HYS1\",\n",
    "    \"animal8\",\"animal7\",\"animal6\",\"animal5\",\"animal4\",\"animal3\",\"animal2\",\"animal1\",\n",
    "    \"pe8\",\"pe7\",\"pe6\",\"pe5\",\"pe4\"];\n",
    "res_book=[241.893, 175.472, 0.013, 0, 44.065, 0, 24.194, 9.328, -18.387, -18.207, 13.581, -7.063, -3.084, 10.148, \n",
    "          17.347, -1.390, -17.229, -7.146, 8.417];"
   ]
  },
  {
   "cell_type": "code",
   "execution_count": 27,
   "metadata": {},
   "outputs": [
    {
     "data": {
      "text/plain": [
       "19×3 Array{Any,2}:\n",
       " \"parity2\"    37.8371   241.893\n",
       " \"parity1\"  -118.311    175.472\n",
       " \"HYS4\"       67.6915     0.013\n",
       " \"HYS3\"     -142.489      0.0  \n",
       " \"HYS2\"      426.208     44.065\n",
       " \"HYS1\"      -98.934      0.0  \n",
       " \"animal8\"    19.8546    24.194\n",
       " \"animal7\"    -6.75542    9.328\n",
       " \"animal6\"   -22.0055   -18.387\n",
       " \"animal5\"    -5.06146  -18.207\n",
       " \"animal4\"     2.15832   13.581\n",
       " \"animal3\"    11.0065    -7.063\n",
       " \"animal2\"   -13.5335    -3.084\n",
       " \"animal1\"     3.16054   10.148\n",
       " \"pe8\"        18.8794    17.347\n",
       " \"pe7\"         2.91337   -1.39 \n",
       " \"pe6\"       -18.4281   -17.229\n",
       " \"pe5\"       -13.9332    -7.146\n",
       " \"pe4\"        10.5686     8.417"
      ]
     },
     "execution_count": 27,
     "metadata": {},
     "output_type": "execute_result"
    }
   ],
   "source": [
    "[para res res_book]"
   ]
  },
  {
   "cell_type": "code",
   "execution_count": 28,
   "metadata": {},
   "outputs": [
    {
     "data": {
      "text/plain": [
       "0.03583732419776385"
      ]
     },
     "execution_count": 28,
     "metadata": {},
     "output_type": "execute_result"
    }
   ],
   "source": [
    "cor(res_book,res)  #??? LOL"
   ]
  },
  {
   "cell_type": "markdown",
   "metadata": {},
   "source": [
    "## Remember: dependency in the MME!"
   ]
  },
  {
   "cell_type": "markdown",
   "metadata": {},
   "source": [
    "### Remove HYS1 HYS3 from X\n",
    "Fixed effect `Parity` and `HYS`\n",
    "\n",
    "$X * b=\n",
    " \\begin{bmatrix}\n",
    "   0 & 1 & 0  & 0  \\\\\n",
    "   1 & 0 & 0  & 0  \\\\\n",
    "   0 & 1 & 0  & 0  \\\\\n",
    "   1 & 0 & 1  & 0  \\\\\n",
    "   0 & 1 & 0  & 1  \\\\\n",
    "   1 & 0 & 0  & 0  \\\\\n",
    "   0 & 1 & 0  & 0  \\\\\n",
    "   1 & 0 & 0  & 0  \\\\\n",
    "   0 & 1 & 0  & 1  \\\\\n",
    "   1 & 0 & 1  & 0  \\\\\n",
    "  \\end{bmatrix} \n",
    " * \n",
    " \\begin{bmatrix}\n",
    " parity2 \\\\\n",
    " parity1 \\\\\n",
    " HYS4\\\\\n",
    " HYS2\\\\\n",
    " \\end{bmatrix} \n",
    " $"
   ]
  },
  {
   "cell_type": "code",
   "execution_count": 29,
   "metadata": {},
   "outputs": [],
   "source": [
    "X2=X[:,[1,2,3,5]];  ############# fixed effext: parity2, parity1, HYS4, HYS2 "
   ]
  },
  {
   "cell_type": "code",
   "execution_count": 30,
   "metadata": {},
   "outputs": [],
   "source": [
    "LHS2=[X2'X2 X2'Z X2'W\n",
    "     Z'X2 Z'Z+A_inv*alpha1 Z'W\n",
    "     W'X2 W'Z W'W+I*alpha2]\n",
    "LHS2_inv = inv(LHS2)\n",
    "RHS2=[X2'y\n",
    "     Z'y\n",
    "     W'y];"
   ]
  },
  {
   "cell_type": "code",
   "execution_count": 31,
   "metadata": {},
   "outputs": [],
   "source": [
    "res2 = LHS2_inv*RHS2;"
   ]
  },
  {
   "cell_type": "code",
   "execution_count": 32,
   "metadata": {},
   "outputs": [],
   "source": [
    "para2=[\"parity2\",\"parity1\",\"HYS4\",\"HYS2\",\n",
    "    \"animal8\",\"animal7\",\"animal6\",\"animal5\",\"animal4\",\"animal3\",\"animal2\",\"animal1\",\n",
    "    \"pe8\",\"pe7\",\"pe6\",\"pe5\",\"pe4\"];\n",
    "res_book=[241.893, 175.472, 0.013, 44.065, 24.194, 9.328, -18.387, -18.207, 13.581, -7.063, -3.084, 10.148, \n",
    "          17.347, -1.390, -17.229, -7.146, 8.417];"
   ]
  },
  {
   "cell_type": "code",
   "execution_count": 33,
   "metadata": {},
   "outputs": [
    {
     "data": {
      "text/plain": [
       "17×3 Array{Any,2}:\n",
       " \"parity2\"  250.516    241.893\n",
       " \"parity1\"  180.37     175.472\n",
       " \"HYS4\"     -10.3859     0.013\n",
       " \"HYS2\"      42.9799    44.065\n",
       " \"animal8\"   19.8546    24.194\n",
       " \"animal7\"   -6.75542    9.328\n",
       " \"animal6\"  -22.0055   -18.387\n",
       " \"animal5\"   -5.06146  -18.207\n",
       " \"animal4\"    2.15832   13.581\n",
       " \"animal3\"   11.0065    -7.063\n",
       " \"animal2\"  -13.5335    -3.084\n",
       " \"animal1\"    3.16054   10.148\n",
       " \"pe8\"       18.8794    17.347\n",
       " \"pe7\"        2.91337   -1.39 \n",
       " \"pe6\"      -18.4281   -17.229\n",
       " \"pe5\"      -13.9332    -7.146\n",
       " \"pe4\"       10.5686     8.417"
      ]
     },
     "execution_count": 33,
     "metadata": {},
     "output_type": "execute_result"
    }
   ],
   "source": [
    "[para2 res2 res_book]"
   ]
  },
  {
   "cell_type": "code",
   "execution_count": 34,
   "metadata": {},
   "outputs": [
    {
     "data": {
      "text/plain": [
       "0.9928944770871895"
      ]
     },
     "execution_count": 34,
     "metadata": {},
     "output_type": "execute_result"
    }
   ],
   "source": [
    "cor(res2,res_book)  # yeah!!!!!!"
   ]
  },
  {
   "cell_type": "markdown",
   "metadata": {},
   "source": [
    "Same situation:\n",
    "If a factor variable has level of `n`, then there will only be `n-1` indicator. This ensure the indicator is full-rank."
   ]
  },
  {
   "cell_type": "markdown",
   "metadata": {},
   "source": [
    "# Combine repeatability with group model?"
   ]
  },
  {
   "cell_type": "markdown",
   "metadata": {},
   "source": [
    "# Next: JWAS"
   ]
  },
  {
   "cell_type": "code",
   "execution_count": 42,
   "metadata": {},
   "outputs": [],
   "source": [
    "using JWAS, CSV"
   ]
  },
  {
   "cell_type": "code",
   "execution_count": 43,
   "metadata": {},
   "outputs": [],
   "source": [
    "data = DataFrame(Cow=[4,4,5,5,6,6,7,7,8,8], Pe=[4,4,5,5,6,6,7,7,8,8],\n",
    "                 Parity=[1,2,1,2,1,2,1,2,1,2], HYS=[1,3,1,4,2,3,1,3,2,4], \n",
    "                 Fat_yield=[201,280,150,200,160,190,180,250,285,300]);"
   ]
  },
  {
   "cell_type": "code",
   "execution_count": 44,
   "metadata": {},
   "outputs": [
    {
     "data": {
      "text/html": [
       "<table class=\"data-frame\"><thead><tr><th></th><th>Cow</th><th>Pe</th><th>Parity</th><th>HYS</th><th>Fat_yield</th></tr><tr><th></th><th>String</th><th>Int64</th><th>Int64</th><th>Int64</th><th>Int64</th></tr></thead><tbody><p>10 rows × 5 columns</p><tr><th>1</th><td>a4</td><td>4</td><td>1</td><td>1</td><td>201</td></tr><tr><th>2</th><td>a4</td><td>4</td><td>2</td><td>3</td><td>280</td></tr><tr><th>3</th><td>a5</td><td>5</td><td>1</td><td>1</td><td>150</td></tr><tr><th>4</th><td>a5</td><td>5</td><td>2</td><td>4</td><td>200</td></tr><tr><th>5</th><td>a6</td><td>6</td><td>1</td><td>2</td><td>160</td></tr><tr><th>6</th><td>a6</td><td>6</td><td>2</td><td>3</td><td>190</td></tr><tr><th>7</th><td>a7</td><td>7</td><td>1</td><td>1</td><td>180</td></tr><tr><th>8</th><td>a7</td><td>7</td><td>2</td><td>3</td><td>250</td></tr><tr><th>9</th><td>a8</td><td>8</td><td>1</td><td>2</td><td>285</td></tr><tr><th>10</th><td>a8</td><td>8</td><td>2</td><td>4</td><td>300</td></tr></tbody></table>"
      ],
      "text/latex": [
       "\\begin{tabular}{r|ccccc}\n",
       "\t& Cow & Pe & Parity & HYS & Fat\\_yield\\\\\n",
       "\t\\hline\n",
       "\t1 & a4 & 4 & 1 & 1 & 201 \\\\\n",
       "\t2 & a4 & 4 & 2 & 3 & 280 \\\\\n",
       "\t3 & a5 & 5 & 1 & 1 & 150 \\\\\n",
       "\t4 & a5 & 5 & 2 & 4 & 200 \\\\\n",
       "\t5 & a6 & 6 & 1 & 2 & 160 \\\\\n",
       "\t6 & a6 & 6 & 2 & 3 & 190 \\\\\n",
       "\t7 & a7 & 7 & 1 & 1 & 180 \\\\\n",
       "\t8 & a7 & 7 & 2 & 3 & 250 \\\\\n",
       "\t9 & a8 & 8 & 1 & 2 & 285 \\\\\n",
       "\t10 & a8 & 8 & 2 & 4 & 300 \\\\\n",
       "\\end{tabular}\n"
      ],
      "text/plain": [
       "10×5 DataFrame\n",
       "│ Row │ Cow    │ Pe    │ Parity │ HYS   │ Fat_yield │\n",
       "│     │ \u001b[90mString\u001b[39m │ \u001b[90mInt64\u001b[39m │ \u001b[90mInt64\u001b[39m  │ \u001b[90mInt64\u001b[39m │ \u001b[90mInt64\u001b[39m     │\n",
       "├─────┼────────┼───────┼────────┼───────┼───────────┤\n",
       "│ 1   │ a4     │ 4     │ 1      │ 1     │ 201       │\n",
       "│ 2   │ a4     │ 4     │ 2      │ 3     │ 280       │\n",
       "│ 3   │ a5     │ 5     │ 1      │ 1     │ 150       │\n",
       "│ 4   │ a5     │ 5     │ 2      │ 4     │ 200       │\n",
       "│ 5   │ a6     │ 6     │ 1      │ 2     │ 160       │\n",
       "│ 6   │ a6     │ 6     │ 2      │ 3     │ 190       │\n",
       "│ 7   │ a7     │ 7     │ 1      │ 1     │ 180       │\n",
       "│ 8   │ a7     │ 7     │ 2      │ 3     │ 250       │\n",
       "│ 9   │ a8     │ 8     │ 1      │ 2     │ 285       │\n",
       "│ 10  │ a8     │ 8     │ 2      │ 4     │ 300       │"
      ]
     },
     "execution_count": 44,
     "metadata": {},
     "output_type": "execute_result"
    }
   ],
   "source": [
    "data[:Cow] = \"a\" .* string.(data[:Cow])\n",
    "data"
   ]
  },
  {
   "cell_type": "code",
   "execution_count": 67,
   "metadata": {},
   "outputs": [
    {
     "data": {
      "text/html": [
       "<table class=\"data-frame\"><thead><tr><th></th><th>Cow</th><th>Pe</th><th>Parity</th><th>HYS</th><th>Fat_yield</th></tr><tr><th></th><th>String</th><th>Int64</th><th>Int64</th><th>Int64</th><th>Int64</th></tr></thead><tbody><p>10 rows × 5 columns</p><tr><th>1</th><td>a4</td><td>4</td><td>1</td><td>0</td><td>201</td></tr><tr><th>2</th><td>a4</td><td>4</td><td>2</td><td>0</td><td>280</td></tr><tr><th>3</th><td>a5</td><td>5</td><td>1</td><td>0</td><td>150</td></tr><tr><th>4</th><td>a5</td><td>5</td><td>2</td><td>4</td><td>200</td></tr><tr><th>5</th><td>a6</td><td>6</td><td>1</td><td>2</td><td>160</td></tr><tr><th>6</th><td>a6</td><td>6</td><td>2</td><td>0</td><td>190</td></tr><tr><th>7</th><td>a7</td><td>7</td><td>1</td><td>0</td><td>180</td></tr><tr><th>8</th><td>a7</td><td>7</td><td>2</td><td>0</td><td>250</td></tr><tr><th>9</th><td>a8</td><td>8</td><td>1</td><td>2</td><td>285</td></tr><tr><th>10</th><td>a8</td><td>8</td><td>2</td><td>4</td><td>300</td></tr></tbody></table>"
      ],
      "text/latex": [
       "\\begin{tabular}{r|ccccc}\n",
       "\t& Cow & Pe & Parity & HYS & Fat\\_yield\\\\\n",
       "\t\\hline\n",
       "\t1 & a4 & 4 & 1 & 0 & 201 \\\\\n",
       "\t2 & a4 & 4 & 2 & 0 & 280 \\\\\n",
       "\t3 & a5 & 5 & 1 & 0 & 150 \\\\\n",
       "\t4 & a5 & 5 & 2 & 4 & 200 \\\\\n",
       "\t5 & a6 & 6 & 1 & 2 & 160 \\\\\n",
       "\t6 & a6 & 6 & 2 & 0 & 190 \\\\\n",
       "\t7 & a7 & 7 & 1 & 0 & 180 \\\\\n",
       "\t8 & a7 & 7 & 2 & 0 & 250 \\\\\n",
       "\t9 & a8 & 8 & 1 & 2 & 285 \\\\\n",
       "\t10 & a8 & 8 & 2 & 4 & 300 \\\\\n",
       "\\end{tabular}\n"
      ],
      "text/plain": [
       "10×5 DataFrame\n",
       "│ Row │ Cow    │ Pe    │ Parity │ HYS   │ Fat_yield │\n",
       "│     │ \u001b[90mString\u001b[39m │ \u001b[90mInt64\u001b[39m │ \u001b[90mInt64\u001b[39m  │ \u001b[90mInt64\u001b[39m │ \u001b[90mInt64\u001b[39m     │\n",
       "├─────┼────────┼───────┼────────┼───────┼───────────┤\n",
       "│ 1   │ a4     │ 4     │ 1      │ 0     │ 201       │\n",
       "│ 2   │ a4     │ 4     │ 2      │ 0     │ 280       │\n",
       "│ 3   │ a5     │ 5     │ 1      │ 0     │ 150       │\n",
       "│ 4   │ a5     │ 5     │ 2      │ 4     │ 200       │\n",
       "│ 5   │ a6     │ 6     │ 1      │ 2     │ 160       │\n",
       "│ 6   │ a6     │ 6     │ 2      │ 0     │ 190       │\n",
       "│ 7   │ a7     │ 7     │ 1      │ 0     │ 180       │\n",
       "│ 8   │ a7     │ 7     │ 2      │ 0     │ 250       │\n",
       "│ 9   │ a8     │ 8     │ 1      │ 2     │ 285       │\n",
       "│ 10  │ a8     │ 8     │ 2      │ 4     │ 300       │"
      ]
     },
     "execution_count": 67,
     "metadata": {},
     "output_type": "execute_result"
    }
   ],
   "source": [
    "data[:HYS] = [0,0,0,4,2,0,0,0,2,4]\n",
    "data"
   ]
  },
  {
   "cell_type": "code",
   "execution_count": 115,
   "metadata": {},
   "outputs": [],
   "source": [
    "model_equation1  =\"Fat_yield = Parity + HYS + Cow + Pe\";"
   ]
  },
  {
   "cell_type": "code",
   "execution_count": 116,
   "metadata": {},
   "outputs": [],
   "source": [
    "R      = 28\n",
    "model1 = build_model(model_equation1,R);"
   ]
  },
  {
   "cell_type": "code",
   "execution_count": 117,
   "metadata": {},
   "outputs": [],
   "source": [
    "Gpe = 12\n",
    "G1 = 20\n",
    "set_random(model1,\"Pe\",Gpe)"
   ]
  },
  {
   "cell_type": "code",
   "execution_count": 118,
   "metadata": {},
   "outputs": [
    {
     "name": "stdout",
     "output_type": "stream",
     "text": [
      "Finished!\n"
     ]
    },
    {
     "data": {
      "text/plain": [
       "JWAS.PedModule.Pedigree(9, Dict{AbstractString,JWAS.PedModule.PedNode}(\"a7\"=>PedNode(3, \"a3\", \"a4\", 0.0),\"a6\"=>PedNode(7, \"a1\", \"a5\", 0.0),\"a3\"=>PedNode(1, \"0\", \"0\", 0.0),\"a8\"=>PedNode(8, \"a1\", \"a7\", 0.0),\"a2\"=>PedNode(5, \"0\", \"0\", 0.0),\"a1\"=>PedNode(4, \"0\", \"0\", 0.0),\"a5\"=>PedNode(6, \"a3\", \"a2\", 0.0),\"a4\"=>PedNode(2, \"0\", \"0\", 0.0)), Dict(7=>0.0,9=>0.0,14=>0.0,2=>0.0,19=>0.0,11=>0.0), Set(Any[]), Set(Any[]), Set(Any[]), Set(Any[]))"
      ]
     },
     "execution_count": 118,
     "metadata": {},
     "output_type": "execute_result"
    }
   ],
   "source": [
    "pedfile = \"pedigree.txt\"\n",
    "pedigree   = get_pedigree(pedfile,separator=\",\",header=true)"
   ]
  },
  {
   "cell_type": "code",
   "execution_count": 119,
   "metadata": {},
   "outputs": [],
   "source": [
    "set_random(model1,\"Cow\",pedigree,G1)"
   ]
  },
  {
   "cell_type": "code",
   "execution_count": 120,
   "metadata": {},
   "outputs": [],
   "source": [
    "outputMCMCsamples(model1)"
   ]
  },
  {
   "cell_type": "code",
   "execution_count": 121,
   "metadata": {},
   "outputs": [
    {
     "name": "stdout",
     "output_type": "stream",
     "text": [
      "A Linear Mixed Model was build using model equations:\n",
      "\n",
      "Fat_yield = Parity + HYS + Cow + Pe\n",
      "\n",
      "Model Information:\n",
      "\n",
      "Term            C/F          F/R            nLevels\n",
      "Parity          factor       fixed                2\n",
      "HYS             factor       fixed                3\n",
      "Cow             factor       random               8\n",
      "Pe              factor       random               5\n",
      "\n",
      "MCMC Information:\n",
      "\n",
      "methods                        conventional (no markers)\n",
      "chain_length                                1000000\n",
      "burnin                                         5000\n",
      "starting_value                                false\n",
      "printout_frequency                          1000001\n",
      "output_samples_frequency                        100\n",
      "constraint                                    false\n",
      "missing_phenotypes                            false\n",
      "update_priors_frequency                           0\n",
      "\n",
      "Hyper-parameters Information: \n",
      "\n",
      "random effect variances (Pe):                [12.0]\n",
      "residual variances:                          28.000\n",
      "genetic variances (polygenic):\n",
      "                                             [20.0]\n",
      "\n",
      "Degree of freedom for hyper-parameters:\n",
      "\n",
      "residual variances:                           4.000\n",
      "iid random effect variances:                  4.000\n",
      "polygenic effect variances:                   4.000\n",
      "\n",
      "\n",
      "\n",
      "\u001b[31mThe file MCMC_samples_residual_variance.txt already exists!!! It is overwritten by the new output.\u001b[39m\n",
      "\u001b[31mThe file MCMC_samples_polygenic_effects_variance.txt already exists!!! It is overwritten by the new output.\u001b[39m\n",
      "\u001b[31mThe file MCMC_samples_Pe_variances.txt already exists!!! It is overwritten by the new output.\u001b[39m\n"
     ]
    },
    {
     "name": "stderr",
     "output_type": "stream",
     "text": [
      "\u001b[32mrunning MCMC for conventional (no markers)...100%|██████| Time: 0:00:26\u001b[39m\n"
     ]
    },
    {
     "data": {
      "text/plain": [
       "Dict{Any,Any} with 4 entries:\n",
       "  \"Posterior mean of polyg… => [1670.99]\n",
       "  \"Posterior mean of resid… => 75.6067\n",
       "  \"EBV_Fat_yield\"           => Any[\"a7\" -0.12565; \"a6\" -49.4477; … ; \"a5\" -26.7…\n",
       "  \"Posterior mean of locat… => 18×4 DataFrame…"
      ]
     },
     "execution_count": 121,
     "metadata": {},
     "output_type": "execute_result"
    }
   ],
   "source": [
    "out1=runMCMC(model1,data,chain_length=100000,output_samples_frequency=100, burnin = 5000)"
   ]
  },
  {
   "cell_type": "code",
   "execution_count": 122,
   "metadata": {},
   "outputs": [
    {
     "data": {
      "text/html": [
       "<table class=\"data-frame\"><thead><tr><th></th><th>Trait</th><th>Effect</th><th>Level</th><th>Estimate</th></tr><tr><th></th><th>Any</th><th>Any</th><th>Any</th><th>Any</th></tr></thead><tbody><p>18 rows × 4 columns</p><tr><th>1</th><td>1</td><td>Parity</td><td>1</td><td>180.075</td></tr><tr><th>2</th><td>1</td><td>Parity</td><td>2</td><td>252.535</td></tr><tr><th>3</th><td>1</td><td>HYS</td><td>0</td><td>NaN</td></tr><tr><th>4</th><td>1</td><td>HYS</td><td>4</td><td>-18.1069</td></tr><tr><th>5</th><td>1</td><td>HYS</td><td>2</td><td>41.0364</td></tr><tr><th>6</th><td>1</td><td>Cow</td><td>a3</td><td>-15.1233</td></tr><tr><th>7</th><td>1</td><td>Cow</td><td>a4</td><td>19.4911</td></tr><tr><th>8</th><td>1</td><td>Cow</td><td>a7</td><td>-0.12565</td></tr><tr><th>9</th><td>1</td><td>Cow</td><td>a1</td><td>7.77221</td></tr><tr><th>10</th><td>1</td><td>Cow</td><td>a2</td><td>-12.733</td></tr><tr><th>11</th><td>1</td><td>Cow</td><td>a5</td><td>-26.7408</td></tr><tr><th>12</th><td>1</td><td>Cow</td><td>a6</td><td>-49.4477</td></tr><tr><th>13</th><td>1</td><td>Cow</td><td>a8</td><td>51.6105</td></tr><tr><th>14</th><td>1</td><td>Pe</td><td>4</td><td>3.74762</td></tr><tr><th>15</th><td>1</td><td>Pe</td><td>5</td><td>-4.67914</td></tr><tr><th>16</th><td>1</td><td>Pe</td><td>6</td><td>-10.3377</td></tr><tr><th>17</th><td>1</td><td>Pe</td><td>7</td><td>-0.911453</td></tr><tr><th>18</th><td>1</td><td>Pe</td><td>8</td><td>10.9407</td></tr></tbody></table>"
      ],
      "text/latex": [
       "\\begin{tabular}{r|cccc}\n",
       "\t& Trait & Effect & Level & Estimate\\\\\n",
       "\t\\hline\n",
       "\t1 & 1 & Parity & 1 & 180.075 \\\\\n",
       "\t2 & 1 & Parity & 2 & 252.535 \\\\\n",
       "\t3 & 1 & HYS & 0 & NaN \\\\\n",
       "\t4 & 1 & HYS & 4 & -18.1069 \\\\\n",
       "\t5 & 1 & HYS & 2 & 41.0364 \\\\\n",
       "\t6 & 1 & Cow & a3 & -15.1233 \\\\\n",
       "\t7 & 1 & Cow & a4 & 19.4911 \\\\\n",
       "\t8 & 1 & Cow & a7 & -0.12565 \\\\\n",
       "\t9 & 1 & Cow & a1 & 7.77221 \\\\\n",
       "\t10 & 1 & Cow & a2 & -12.733 \\\\\n",
       "\t11 & 1 & Cow & a5 & -26.7408 \\\\\n",
       "\t12 & 1 & Cow & a6 & -49.4477 \\\\\n",
       "\t13 & 1 & Cow & a8 & 51.6105 \\\\\n",
       "\t14 & 1 & Pe & 4 & 3.74762 \\\\\n",
       "\t15 & 1 & Pe & 5 & -4.67914 \\\\\n",
       "\t16 & 1 & Pe & 6 & -10.3377 \\\\\n",
       "\t17 & 1 & Pe & 7 & -0.911453 \\\\\n",
       "\t18 & 1 & Pe & 8 & 10.9407 \\\\\n",
       "\\end{tabular}\n"
      ],
      "text/plain": [
       "18×4 DataFrame\n",
       "│ Row │ Trait │ Effect │ Level │ Estimate  │\n",
       "│     │ \u001b[90mAny\u001b[39m   │ \u001b[90mAny\u001b[39m    │ \u001b[90mAny\u001b[39m   │ \u001b[90mAny\u001b[39m       │\n",
       "├─────┼───────┼────────┼───────┼───────────┤\n",
       "│ 1   │ 1     │ Parity │ 1     │ 180.075   │\n",
       "│ 2   │ 1     │ Parity │ 2     │ 252.535   │\n",
       "│ 3   │ 1     │ HYS    │ 0     │ NaN       │\n",
       "│ 4   │ 1     │ HYS    │ 4     │ -18.1069  │\n",
       "│ 5   │ 1     │ HYS    │ 2     │ 41.0364   │\n",
       "│ 6   │ 1     │ Cow    │ a3    │ -15.1233  │\n",
       "│ 7   │ 1     │ Cow    │ a4    │ 19.4911   │\n",
       "│ 8   │ 1     │ Cow    │ a7    │ -0.12565  │\n",
       "│ 9   │ 1     │ Cow    │ a1    │ 7.77221   │\n",
       "│ 10  │ 1     │ Cow    │ a2    │ -12.733   │\n",
       "│ 11  │ 1     │ Cow    │ a5    │ -26.7408  │\n",
       "│ 12  │ 1     │ Cow    │ a6    │ -49.4477  │\n",
       "│ 13  │ 1     │ Cow    │ a8    │ 51.6105   │\n",
       "│ 14  │ 1     │ Pe     │ 4     │ 3.74762   │\n",
       "│ 15  │ 1     │ Pe     │ 5     │ -4.67914  │\n",
       "│ 16  │ 1     │ Pe     │ 6     │ -10.3377  │\n",
       "│ 17  │ 1     │ Pe     │ 7     │ -0.911453 │\n",
       "│ 18  │ 1     │ Pe     │ 8     │ 10.9407   │"
      ]
     },
     "execution_count": 122,
     "metadata": {},
     "output_type": "execute_result"
    }
   ],
   "source": [
    "MCMC_res = out1[\"Posterior mean of location parameters\"]"
   ]
  },
  {
   "cell_type": "code",
   "execution_count": 123,
   "metadata": {},
   "outputs": [
    {
     "data": {
      "text/plain": [
       "17-element Array{Float64,1}:\n",
       " 175.472\n",
       " 241.893\n",
       "   0.013\n",
       "  44.065\n",
       "  -7.063\n",
       "  13.581\n",
       "   9.328\n",
       "  10.148\n",
       "  -3.084\n",
       " -18.207\n",
       " -18.387\n",
       "  24.194\n",
       "   8.417\n",
       "  -7.156\n",
       " -17.229\n",
       "  -1.39 \n",
       "  17.347"
      ]
     },
     "execution_count": 123,
     "metadata": {},
     "output_type": "execute_result"
    }
   ],
   "source": [
    "MME_res = [175.472, 241.893, 0.013, 44.065, -7.063, 13.581, 9.328, 10.148, -3.084, -18.207, -18.387, 24.194,\n",
    "           8.417, -7.156, -17.229, -1.39, 17.347]   "
   ]
  },
  {
   "cell_type": "code",
   "execution_count": 124,
   "metadata": {},
   "outputs": [
    {
     "data": {
      "text/plain": [
       "17-element Array{Any,1}:\n",
       " 180.07488162836069   \n",
       " 252.53512469152543   \n",
       " -18.106884464510326  \n",
       "  41.036425684099854  \n",
       " -15.12330858732163   \n",
       "  19.491059419731428  \n",
       "  -0.12564984768097853\n",
       "   7.7722075013674585 \n",
       " -12.73303220923316   \n",
       " -26.740831338959246  \n",
       " -49.44769287752253   \n",
       "  51.610461187027546  \n",
       "   3.747619538186204  \n",
       "  -4.6791381761431055 \n",
       " -10.337670478262314  \n",
       "  -0.9114528676184691 \n",
       "  10.940660054180588  "
      ]
     },
     "execution_count": 124,
     "metadata": {},
     "output_type": "execute_result"
    }
   ],
   "source": [
    "MCMC_res[4][[1;2;collect(4:18)]]"
   ]
  },
  {
   "cell_type": "code",
   "execution_count": 125,
   "metadata": {},
   "outputs": [
    {
     "data": {
      "text/plain": [
       "0.9884356604904946"
      ]
     },
     "execution_count": 125,
     "metadata": {},
     "output_type": "execute_result"
    }
   ],
   "source": [
    "cor(MCMC_res[4][[1;2;collect(4:18)]], MME_res)"
   ]
  },
  {
   "cell_type": "code",
   "execution_count": null,
   "metadata": {},
   "outputs": [],
   "source": []
  },
  {
   "cell_type": "code",
   "execution_count": null,
   "metadata": {},
   "outputs": [],
   "source": []
  }
 ],
 "metadata": {
  "@webio": {
   "lastCommId": null,
   "lastKernelId": null
  },
  "kernelspec": {
   "display_name": "Julia 1.1.0",
   "language": "julia",
   "name": "julia-1.1"
  },
  "language_info": {
   "file_extension": ".jl",
   "mimetype": "application/julia",
   "name": "julia",
   "version": "1.1.0"
  }
 },
 "nbformat": 4,
 "nbformat_minor": 2
}
