{
 "cells": [
  {
   "cell_type": "markdown",
   "metadata": {},
   "source": [
    "# Chapter 3.5\n",
    "## Reduced Animal Model\n",
    "Zigui Wang"
   ]
  },
  {
   "cell_type": "markdown",
   "metadata": {},
   "source": [
    "Consider the following data set for the pre-weaning gain (WWG) of beef calves (calves assumed to be reared \n",
    "under the same management conditions). The objective is to estimate the effects of sex and predictive breeding values for all animals. The data set is obtained from the example 3.1\n",
    "\n",
    "Assume $\\sigma^2_a = 20$ and $\\sigma^2_e = 40$, $\\alpha = \\frac{\\sigma^2_e}{\\sigma^2_a}$\n"
   ]
  },
  {
   "cell_type": "code",
   "execution_count": 7,
   "metadata": {},
   "outputs": [],
   "source": [
    "using JWAS, DataFrames,LinearAlgebra"
   ]
  },
  {
   "cell_type": "code",
   "execution_count": 48,
   "metadata": {},
   "outputs": [],
   "source": [
    "invA = [\n",
    "     1.833  0.500  0.000 -0.667  0.000 -1.000  \n",
    "     0.500  2.000  0.500  0.000 -1.000 -1.000 \n",
    "     0.000  0.500  1.500  0.000 -1.000  0.000  \n",
    "    -0.667  0.000  0.000  1.333  0.000  0.000 \n",
    "     0.000 -1.000 -1.000  0.000  2.000  0.000 \n",
    "    -1.000 -1.000  0.000  0.000  0.000  2.000 \n",
    "];"
   ]
  },
  {
   "cell_type": "code",
   "execution_count": 3,
   "metadata": {},
   "outputs": [
    {
     "data": {
      "text/html": [
       "<table class=\"data-frame\"><thead><tr><th></th><th>Calves</th><th>sex</th><th>sire</th><th>Dam</th><th>WWG</th></tr><tr><th></th><th>Int64</th><th>String</th><th>Int64</th><th>Int64⍰</th><th>Float64</th></tr></thead><tbody><p>5 rows × 5 columns</p><tr><th>1</th><td>4</td><td>male</td><td>1</td><td>missing</td><td>4.5</td></tr><tr><th>2</th><td>5</td><td>female</td><td>3</td><td>2</td><td>2.9</td></tr><tr><th>3</th><td>6</td><td>female</td><td>1</td><td>2</td><td>3.9</td></tr><tr><th>4</th><td>7</td><td>male</td><td>4</td><td>5</td><td>3.5</td></tr><tr><th>5</th><td>8</td><td>male</td><td>3</td><td>6</td><td>5.0</td></tr></tbody></table>"
      ],
      "text/latex": [
       "\\begin{tabular}{r|ccccc}\n",
       "\t& Calves & sex & sire & Dam & WWG\\\\\n",
       "\t\\hline\n",
       "\t& Int64 & String & Int64 & Int64⍰ & Float64\\\\\n",
       "\t\\hline\n",
       "\t1 & 4 & male & 1 &  & 4.5 \\\\\n",
       "\t2 & 5 & female & 3 & 2 & 2.9 \\\\\n",
       "\t3 & 6 & female & 1 & 2 & 3.9 \\\\\n",
       "\t4 & 7 & male & 4 & 5 & 3.5 \\\\\n",
       "\t5 & 8 & male & 3 & 6 & 5.0 \\\\\n",
       "\\end{tabular}\n"
      ],
      "text/plain": [
       "5×5 DataFrame\n",
       "│ Row │ Calves │ sex    │ sire  │ Dam     │ WWG     │\n",
       "│     │ \u001b[90mInt64\u001b[39m  │ \u001b[90mString\u001b[39m │ \u001b[90mInt64\u001b[39m │ \u001b[90mInt64⍰\u001b[39m  │ \u001b[90mFloat64\u001b[39m │\n",
       "├─────┼────────┼────────┼───────┼─────────┼─────────┤\n",
       "│ 1   │ 4      │ male   │ 1     │ \u001b[90mmissing\u001b[39m │ 4.5     │\n",
       "│ 2   │ 5      │ female │ 3     │ 2       │ 2.9     │\n",
       "│ 3   │ 6      │ female │ 1     │ 2       │ 3.9     │\n",
       "│ 4   │ 7      │ male   │ 4     │ 5       │ 3.5     │\n",
       "│ 5   │ 8      │ male   │ 3     │ 6       │ 5.0     │"
      ]
     },
     "execution_count": 3,
     "metadata": {},
     "output_type": "execute_result"
    }
   ],
   "source": [
    "data = DataFrame(Calves = [4,5,6,7,8]\n",
    "    ,sex=[\"male\",\"female\",\"female\",\"male\",\"male\"], \n",
    "    sire=[1,3,1,4,3], \n",
    "    Dam=[missing,2,2,5,6],\n",
    "    WWG=[4.5,2.9,3.9,3.5,5.0])"
   ]
  },
  {
   "cell_type": "markdown",
   "metadata": {},
   "source": [
    "### Step 1: Constructing the R"
   ]
  },
  {
   "cell_type": "markdown",
   "metadata": {},
   "source": [
    "In our case, since calves 4, 5 and 6 are parents, the diagonal elements corresponding to these three are equal to the $\\sigma^2_e$, which is 40.\n",
    "\n",
    "Since calves 7 and 8 are non parents. The diagonal elements corresponding to these two are equal to the $\\sigma^2_e + d_i \\sigma^2_a$. For each calf, $d_i$ equal to $\\frac{1}{2}$ since both their parents are known. Therefore, $r_{77} = r_{88} = \\sigma^2_e + d \\alpha^{-1} \\sigma^2_e = 40 + \\frac{1}{2}*\\frac{1}{2}*40 = 50 $"
   ]
  },
  {
   "cell_type": "code",
   "execution_count": 9,
   "metadata": {},
   "outputs": [
    {
     "data": {
      "text/plain": [
       "5×5 Array{Int64,2}:\n",
       " 40   0   0   0   0\n",
       "  0  40   0   0   0\n",
       "  0   0  40   0   0\n",
       "  0   0   0  50   0\n",
       "  0   0   0   0  50"
      ]
     },
     "execution_count": 9,
     "metadata": {},
     "output_type": "execute_result"
    }
   ],
   "source": [
    "R = [\n",
    "    40 0 0 0 0\n",
    "    0 40 0 0 0\n",
    "    0 0 40 0 0\n",
    "    0 0 0 50 0\n",
    "    0 0 0 0 50\n",
    "]"
   ]
  },
  {
   "cell_type": "markdown",
   "metadata": {},
   "source": [
    "### Step 2: Constructing the X"
   ]
  },
  {
   "cell_type": "markdown",
   "metadata": {},
   "source": [
    "X is same as in section 3.3, which represents the sex effects."
   ]
  },
  {
   "cell_type": "code",
   "execution_count": 13,
   "metadata": {},
   "outputs": [
    {
     "data": {
      "text/plain": [
       "5×2 Array{Int64,2}:\n",
       " 1  0\n",
       " 0  1\n",
       " 0  1\n",
       " 1  0\n",
       " 1  0"
      ]
     },
     "execution_count": 13,
     "metadata": {},
     "output_type": "execute_result"
    }
   ],
   "source": [
    "X = [1 0; 0 1; 0 1; 1 0; 1 0]"
   ]
  },
  {
   "cell_type": "code",
   "execution_count": 14,
   "metadata": {},
   "outputs": [
    {
     "data": {
      "text/plain": [
       "2×2 Array{Float64,2}:\n",
       " 0.065  0.0 \n",
       " 0.0    0.05"
      ]
     },
     "execution_count": 14,
     "metadata": {},
     "output_type": "execute_result"
    }
   ],
   "source": [
    "X'*inv(R)*X"
   ]
  },
  {
   "cell_type": "markdown",
   "metadata": {},
   "source": [
    "### Step 3: Constructing the W"
   ]
  },
  {
   "cell_type": "markdown",
   "metadata": {},
   "source": [
    "we know\n",
    "$\n",
    "W = \n",
    "\\begin{pmatrix}\n",
    "Z\\\\\n",
    "Z_1\\\\\n",
    "\\end{pmatrix}\n",
    "$, and Z corresponds to the breeding values of the parents animal, which is animal 4,5,6. $Z_1$ corresponds to the breeding value of the non parents animal, which is animal 7,8"
   ]
  },
  {
   "cell_type": "code",
   "execution_count": 15,
   "metadata": {},
   "outputs": [
    {
     "data": {
      "text/plain": [
       "3×6 Array{Int64,2}:\n",
       " 0  0  0  1  0  0\n",
       " 0  0  0  0  1  0\n",
       " 0  0  0  0  0  1"
      ]
     },
     "execution_count": 15,
     "metadata": {},
     "output_type": "execute_result"
    }
   ],
   "source": [
    "Z = [\n",
    "    0 0 0 1 0 0\n",
    "    0 0 0 0 1 0\n",
    "    0 0 0 0 0 1\n",
    "]"
   ]
  },
  {
   "cell_type": "code",
   "execution_count": 16,
   "metadata": {},
   "outputs": [
    {
     "data": {
      "text/plain": [
       "2×6 Array{Float64,2}:\n",
       " 0.0  0.0  0.0  0.5  0.5  0.0\n",
       " 0.0  0.0  0.5  0.0  0.0  0.5"
      ]
     },
     "execution_count": 16,
     "metadata": {},
     "output_type": "execute_result"
    }
   ],
   "source": [
    "Z1 = [\n",
    "    0 0 0 0.5 0.5 0 \n",
    "    0 0 0.5 0 0 0.5\n",
    "]"
   ]
  },
  {
   "cell_type": "code",
   "execution_count": 17,
   "metadata": {},
   "outputs": [
    {
     "data": {
      "text/plain": [
       "5×6 Array{Float64,2}:\n",
       " 0.0  0.0  0.0  1.0  0.0  0.0\n",
       " 0.0  0.0  0.0  0.0  1.0  0.0\n",
       " 0.0  0.0  0.0  0.0  0.0  1.0\n",
       " 0.0  0.0  0.0  0.5  0.5  0.0\n",
       " 0.0  0.0  0.5  0.0  0.0  0.5"
      ]
     },
     "execution_count": 17,
     "metadata": {},
     "output_type": "execute_result"
    }
   ],
   "source": [
    "W = [Z\n",
    "     Z1]"
   ]
  },
  {
   "cell_type": "code",
   "execution_count": 18,
   "metadata": {},
   "outputs": [
    {
     "data": {
      "text/plain": [
       "6×6 Array{Float64,2}:\n",
       " 0.0  0.0  0.0    0.0    0.0    0.0  \n",
       " 0.0  0.0  0.0    0.0    0.0    0.0  \n",
       " 0.0  0.0  0.005  0.0    0.0    0.005\n",
       " 0.0  0.0  0.0    0.03   0.005  0.0  \n",
       " 0.0  0.0  0.0    0.005  0.03   0.0  \n",
       " 0.0  0.0  0.005  0.0    0.0    0.03 "
      ]
     },
     "execution_count": 18,
     "metadata": {},
     "output_type": "execute_result"
    }
   ],
   "source": [
    "W'* inv(R) * W"
   ]
  },
  {
   "cell_type": "markdown",
   "metadata": {},
   "source": [
    "### Step 4: Constructing the MME"
   ]
  },
  {
   "cell_type": "code",
   "execution_count": 37,
   "metadata": {},
   "outputs": [
    {
     "data": {
      "text/plain": [
       "2.0"
      ]
     },
     "execution_count": 37,
     "metadata": {},
     "output_type": "execute_result"
    }
   ],
   "source": [
    "invA = [\n",
    "     1.833  0.500  0.000 -0.667  0.000 -1.000  \n",
    "     0.500  2.000  0.500  0.000 -1.000 -1.000 \n",
    "     0.000  0.500  1.500  0.000 -1.000  0.000  \n",
    "    -0.667  0.000  0.000  1.333  0.000  0.000 \n",
    "     0.000 -1.000 -1.000  0.000  2.000  0.000 \n",
    "    -1.000 -1.000  0.000  0.000  0.000  2.000 \n",
    "]\n",
    "\n",
    "\n",
    "α = 40/20"
   ]
  },
  {
   "cell_type": "code",
   "execution_count": 41,
   "metadata": {},
   "outputs": [
    {
     "data": {
      "text/plain": [
       "8×8 Array{Float64,2}:\n",
       " 0.065  0.0     0.0       0.0     0.01    0.035     0.01    0.01 \n",
       " 0.0    0.05    0.0       0.0     0.0     0.0       0.025   0.025\n",
       " 0.0    0.0     0.09165   0.025   0.0    -0.03335   0.0    -0.05 \n",
       " 0.0    0.0     0.025     0.1     0.025   0.0      -0.05   -0.05 \n",
       " 0.01   0.0     0.0       0.025   0.08    0.0      -0.05    0.005\n",
       " 0.035  0.0    -0.03335   0.0     0.0     0.09665   0.005   0.0  \n",
       " 0.01   0.025   0.0      -0.05   -0.05    0.005     0.13    0.0  \n",
       " 0.01   0.025  -0.05     -0.05    0.005   0.0       0.0     0.13 "
      ]
     },
     "execution_count": 41,
     "metadata": {},
     "output_type": "execute_result"
    }
   ],
   "source": [
    "LHS = [X'*inv(R)*X X'*inv(R)*W\n",
    "       W'*inv(R)*X W'*inv(R)*W + invA/20]"
   ]
  },
  {
   "cell_type": "code",
   "execution_count": 43,
   "metadata": {},
   "outputs": [
    {
     "name": "stderr",
     "output_type": "stream",
     "text": [
      "┌ Warning: `getindex(df::DataFrame, col_ind::ColumnIndex)` is deprecated, use `df[!, col_ind]` instead.\n",
      "│   caller = top-level scope at In[43]:1\n",
      "└ @ Core In[43]:1\n"
     ]
    },
    {
     "data": {
      "text/plain": [
       "5-element Array{Float64,1}:\n",
       " 4.5\n",
       " 2.9\n",
       " 3.9\n",
       " 3.5\n",
       " 5.0"
      ]
     },
     "execution_count": 43,
     "metadata": {},
     "output_type": "execute_result"
    }
   ],
   "source": [
    "y = data[:WWG]"
   ]
  },
  {
   "cell_type": "code",
   "execution_count": 46,
   "metadata": {},
   "outputs": [
    {
     "data": {
      "text/plain": [
       "8-element Array{Float64,1}:\n",
       " 0.2825             \n",
       " 0.16999999999999998\n",
       " 0.0                \n",
       " 0.0                \n",
       " 0.05               \n",
       " 0.14750000000000002\n",
       " 0.1075             \n",
       " 0.14750000000000002"
      ]
     },
     "execution_count": 46,
     "metadata": {},
     "output_type": "execute_result"
    }
   ],
   "source": [
    "RHS = [\n",
    "    X'*inv(R)*y\n",
    "    W'*inv(R)*y\n",
    "    \n",
    "]"
   ]
  },
  {
   "cell_type": "code",
   "execution_count": 47,
   "metadata": {},
   "outputs": [
    {
     "data": {
      "text/plain": [
       "8-element Array{Float64,1}:\n",
       "  4.358476648792877   \n",
       "  3.4044168159433394  \n",
       "  0.09848595025687512 \n",
       " -0.018768462519237694\n",
       " -0.041079363953278936\n",
       " -0.00862434894678632 \n",
       " -0.18572658819541665 \n",
       "  0.17689295630873847 "
      ]
     },
     "execution_count": 47,
     "metadata": {},
     "output_type": "execute_result"
    }
   ],
   "source": [
    "sol = inv(LHS)*RHS"
   ]
  },
  {
   "cell_type": "markdown",
   "metadata": {},
   "source": [
    "### Step 5: Solve for non parents animals"
   ]
  },
  {
   "cell_type": "markdown",
   "metadata": {},
   "source": [
    "Remember in section 3.3, we have proved that $a_i = 0.5(a_s + a_d) + m_i$. We can utilize this formula to get the breeding value of non parent animals. Also, for the k term, since the R^{-1} has not been factored out of the MME, $k=\\frac{r^{11}}{r^{11} + d^{-1}_i g^{-1}}$.\n",
    "\n",
    "In section 3.3, the formula for m is $ m_i = k(y - 0.5a_s - 0.5a_d) $, can we use this formula directly in reduced animal model?"
   ]
  },
  {
   "cell_type": "code",
   "execution_count": 49,
   "metadata": {},
   "outputs": [
    {
     "data": {
      "text/plain": [
       "0.2"
      ]
     },
     "execution_count": 49,
     "metadata": {},
     "output_type": "execute_result"
    }
   ],
   "source": [
    "k = 0.025/(0.025 + 2*0.05)"
   ]
  },
  {
   "cell_type": "code",
   "execution_count": 50,
   "metadata": {},
   "outputs": [
    {
     "data": {
      "text/plain": [
       "-0.24959999999999993"
      ]
     },
     "execution_count": 50,
     "metadata": {},
     "output_type": "execute_result"
    }
   ],
   "source": [
    "a7 = 0.5*(-0.009 - 0.186) + 0.2*(3.5 - 4.358 - 0.5*(-0.009 - 0.186))"
   ]
  },
  {
   "cell_type": "code",
   "execution_count": null,
   "metadata": {},
   "outputs": [],
   "source": []
  }
 ],
 "metadata": {
  "kernelspec": {
   "display_name": "Julia 1.1.0",
   "language": "julia",
   "name": "julia-1.1"
  },
  "language_info": {
   "file_extension": ".jl",
   "mimetype": "application/julia",
   "name": "julia",
   "version": "1.1.0"
  }
 },
 "nbformat": 4,
 "nbformat_minor": 2
}
