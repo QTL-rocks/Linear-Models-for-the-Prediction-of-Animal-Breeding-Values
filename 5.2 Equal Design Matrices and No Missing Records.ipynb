{
 "cells": [
  {
   "cell_type": "markdown",
   "metadata": {},
   "source": [
    "# Section 5 Best Linear Unbiased Prediction of Breeding Value:\n",
    "# Multivariate Animal Model\n",
    "Jiayi Qu\n",
    "\n",
    "---\n",
    "Selection of livestock is usually based on a combination of several traits of economic importance that may be <strong>phenotypically and genetically related</strong>."
   ]
  },
  {
   "cell_type": "markdown",
   "metadata": {},
   "source": [
    "## Why multivariate animal models?\n",
    "* account for the relationship between traits of interest (e.g., average daily gain and mature body weight in beef cattle).\n",
    "* accuracy of evaluation for a trait with lower heritability can benefit when analysed with genetically related traits with higher heritabilities.  \n",
    "* increase data size due to the phenotypic correlations between traits. "
   ]
  },
  {
   "cell_type": "markdown",
   "metadata": {},
   "source": [
    "## Disadvantages\n",
    "* require high computing cost.\n",
    "* require knowledge of genetic and phenotypic correlations among traits."
   ]
  },
  {
   "cell_type": "markdown",
   "metadata": {},
   "source": [
    "## 5.2 Equal Design Matrices and No Missing Records \n",
    "* all effects in the model affect all traits.\n",
    "* no missing records for any trait."
   ]
  },
  {
   "cell_type": "markdown",
   "metadata": {},
   "source": [
    "## Model\n",
    "Consider a multivariate model for two traits.\n",
    "\n",
    "1. Construct the univariate models for each of the traits.\n",
    "\n",
    "$y_1 = X_1 * b_1 + Z_1 * a_1 + e_1$\n",
    "\n",
    "$y_2 = X_2 * b_2 + Z_2 * a_2 + e_2$\n",
    "\n",
    "2. Construct the multivariate model (assuming animals are ordered within traits). \n",
    "\n",
    "$\\begin{bmatrix}\n",
    "y_1\\\\\n",
    "y_2\n",
    "\\end{bmatrix}$\n",
    "=\n",
    "$\\begin{bmatrix}\n",
    "X_1&0 \\\\\n",
    "0&X_2\n",
    "\\end{bmatrix}$\n",
    "$\\begin{bmatrix}\n",
    "b_1\\\\\n",
    "b_2\n",
    "\\end{bmatrix}$\n",
    "+\n",
    "$\\begin{bmatrix}\n",
    "Z_1&0 \\\\\n",
    "0&Z_2\n",
    "\\end{bmatrix}$\n",
    "$\\begin{bmatrix}\n",
    "a_1\\\\\n",
    "a_2\n",
    "\\end{bmatrix}$\n",
    "+\n",
    "$\\begin{bmatrix}\n",
    "e_1\\\\\n",
    "e_2\n",
    "\\end{bmatrix}$\n",
    "\n",
    "where\n",
    "* $y_i$ = vector of observations for the ith trait\n",
    "* $b_i$ = vector of fixed effects for the ith trait\n",
    "* $a_i$ = vector of random animal effects for the ith trait\n",
    "* $e_i$ = vector of random residual effects for the ith trait\n",
    "* $X_i,Z_i$ = incidence matrix for the ith trait  "
   ]
  },
  {
   "cell_type": "markdown",
   "metadata": {},
   "source": [
    "It is assumed that:\n",
    "\n",
    "var$\\begin{bmatrix}\n",
    "\\bf{a_1}\\\\\n",
    "\\bf{a_2}\\\\\n",
    "\\bf{e_1}\\\\\n",
    "\\bf{e_2}\n",
    "\\end{bmatrix}$\n",
    "=\n",
    "$\\begin{bmatrix}\n",
    "g_{11}\\bf{A} & g_{12}\\bf{A} & \\bf{0} & \\bf{0}\\\\\n",
    "g_{21}\\bf{A} & g_{22}\\bf{A} & \\bf{0} & \\bf{0}\\\\\n",
    "\\bf{0} & \\bf{0} & r_{11}\\bf{I} & r_{12}\\bf{I} \\\\\n",
    "\\bf{0} & \\bf{0} & r_{21}\\bf{I} & r_{22}\\bf{I}\n",
    "\\end{bmatrix}$\n",
    "\n",
    "where \n",
    "* $\\bf{G}$ = additive genetic variance and covariance matrix (i.e., $g_{11}$ = additive genetic variance for trait 1; \n",
    "$g_{12} = g_{21}$ = additive genetic covariance between both traits; $g_{22}$ = additive genetic variance for trait 2)\n"
   ]
  },
  {
   "cell_type": "markdown",
   "metadata": {},
   "source": [
    "## MME\n",
    "\n",
    "<center>$\\begin{bmatrix}\n",
    "X'R^{-1}X & X'R^{-1}Z \\\\\n",
    "Z'R^{-1}X & Z'R^{-1}Z + A^{-1}G^{-1} \n",
    "\\end{bmatrix}$\n",
    "$\\begin{bmatrix}\n",
    "\\hat{b} \\\\\n",
    "\\hat{a} \n",
    "\\end{bmatrix}$\n",
    "=\n",
    "$\\begin{bmatrix}\n",
    "X'R^{-1}y \\\\\n",
    "Z'R^{-1}y \n",
    "\\end{bmatrix}$</center>\n",
    "\n",
    "where \n",
    "\n",
    " \n",
    "$X = \n",
    "\\begin{bmatrix}\n",
    "X_1&0 \\\\\n",
    "0&X_2\n",
    "\\end{bmatrix}$,\n",
    "$Z=\n",
    "\\begin{bmatrix}\n",
    "Z_1&0 \\\\\n",
    "0&Z_2\n",
    "\\end{bmatrix}$,\n",
    "$\\hat{b} =\n",
    "\\begin{bmatrix}\n",
    "\\hat{b}_1\\\\\n",
    "\\hat{b}_2\n",
    "\\end{bmatrix}$,\n",
    "$\\hat{a} =\n",
    "\\begin{bmatrix}\n",
    "\\hat{a}_1\\\\\n",
    "\\hat{a}_2\n",
    "\\end{bmatrix}$,\n",
    "$y =\n",
    "\\begin{bmatrix}\n",
    "y_1\\\\\n",
    "y_2\n",
    "\\end{bmatrix}$\n"
   ]
  },
  {
   "cell_type": "markdown",
   "metadata": {},
   "source": [
    "Note that if $\\bf{R^{12}} = $ $\\bf{R^{21}} = $ $g^{12} = $ $g^{21} = 0$, this multivariate model can be reduced to two univariate models since the two traits become uncorrelated and there is no information from one trait to the other. "
   ]
  },
  {
   "cell_type": "markdown",
   "metadata": {},
   "source": [
    "## Example"
   ]
  },
  {
   "cell_type": "code",
   "execution_count": 101,
   "metadata": {},
   "outputs": [
    {
     "data": {
      "text/html": [
       "<table class=\"data-frame\"><thead><tr><th></th><th>Calves</th><th>Sire</th><th>Dam</th><th>Sex</th><th>WWG</th><th>PWG</th></tr><tr><th></th><th>String</th><th>String</th><th>String⍰</th><th>String</th><th>Float64</th><th>Float64</th></tr></thead><tbody><p>5 rows × 6 columns</p><tr><th>1</th><td>a4</td><td>a1</td><td>missing</td><td>Male</td><td>4.5</td><td>6.8</td></tr><tr><th>2</th><td>a5</td><td>a3</td><td>a2</td><td>Female</td><td>2.9</td><td>5.0</td></tr><tr><th>3</th><td>a6</td><td>a1</td><td>a2</td><td>Female</td><td>3.9</td><td>6.8</td></tr><tr><th>4</th><td>a7</td><td>a4</td><td>a5</td><td>Male</td><td>3.5</td><td>6.0</td></tr><tr><th>5</th><td>a8</td><td>a3</td><td>a6</td><td>Male</td><td>5.0</td><td>7.5</td></tr></tbody></table>"
      ],
      "text/latex": [
       "\\begin{tabular}{r|cccccc}\n",
       "\t& Calves & Sire & Dam & Sex & WWG & PWG\\\\\n",
       "\t\\hline\n",
       "\t1 & a4 & a1 &  & Male & 4.5 & 6.8 \\\\\n",
       "\t2 & a5 & a3 & a2 & Female & 2.9 & 5.0 \\\\\n",
       "\t3 & a6 & a1 & a2 & Female & 3.9 & 6.8 \\\\\n",
       "\t4 & a7 & a4 & a5 & Male & 3.5 & 6.0 \\\\\n",
       "\t5 & a8 & a3 & a6 & Male & 5.0 & 7.5 \\\\\n",
       "\\end{tabular}\n"
      ],
      "text/plain": [
       "5×6 DataFrame\n",
       "│ Row │ Calves │ Sire   │ Dam     │ Sex    │ WWG     │ PWG     │\n",
       "│     │ \u001b[90mString\u001b[39m │ \u001b[90mString\u001b[39m │ \u001b[90mString⍰\u001b[39m │ \u001b[90mString\u001b[39m │ \u001b[90mFloat64\u001b[39m │ \u001b[90mFloat64\u001b[39m │\n",
       "├─────┼────────┼────────┼─────────┼────────┼─────────┼─────────┤\n",
       "│ 1   │ a4     │ a1     │ \u001b[90mmissing\u001b[39m │ Male   │ 4.5     │ 6.8     │\n",
       "│ 2   │ a5     │ a3     │ a2      │ Female │ 2.9     │ 5.0     │\n",
       "│ 3   │ a6     │ a1     │ a2      │ Female │ 3.9     │ 6.8     │\n",
       "│ 4   │ a7     │ a4     │ a5      │ Male   │ 3.5     │ 6.0     │\n",
       "│ 5   │ a8     │ a3     │ a6      │ Male   │ 5.0     │ 7.5     │"
      ]
     },
     "execution_count": 101,
     "metadata": {},
     "output_type": "execute_result"
    }
   ],
   "source": [
    "using DataFrames, LinearAlgebra, Statistics\n",
    "\n",
    "data = DataFrame(Calves=[\"a4\",\"a5\",\"a6\",\"a7\",\"a8\"],\n",
    "                 Sire=[\"a1\",\"a3\",\"a1\",\"a4\",\"a3\"],\n",
    "                 Dam=[missing,\"a2\",\"a2\",\"a5\",\"a6\"],\n",
    "                 Sex=[\"Male\",\"Female\",\"Female\",\"Male\",\"Male\"],\n",
    "                 WWG=[4.5, 2.9, 3.9, 3.5, 5.0],\n",
    "                 PWG = [6.8, 5.0, 6.8, 6.0, 7.5])"
   ]
  },
  {
   "cell_type": "markdown",
   "metadata": {},
   "source": [
    "Fixed effect `Sex`\n",
    "\n",
    "$X * b = \n",
    "\\begin{bmatrix}\n",
    "X_1&0 \\\\\n",
    "0&X_2\n",
    "\\end{bmatrix}\n",
    "* b\n",
    "=\n",
    " \\begin{bmatrix}\n",
    "   1 & 0 & 0 & 0 \\\\\n",
    "   0 & 1 & 0 & 0 \\\\\n",
    "   0 & 1 & 0 & 0 \\\\\n",
    "   1 & 0 & 0 & 0 \\\\\n",
    "   1 & 0 & 0 & 0 \\\\\n",
    "   0 & 0 & 1 & 0 \\\\\n",
    "   0 & 0 & 0 & 1 \\\\\n",
    "   0 & 0 & 0 & 1 \\\\\n",
    "   0 & 0 & 1 & 0 \\\\\n",
    "   0 & 0 & 1 & 0 \n",
    " \\end{bmatrix} \n",
    " * \n",
    " \\begin{bmatrix}\n",
    " Male_{1} \\\\\n",
    " Female_{1} \\\\\n",
    " Male_{2} \\\\\n",
    " Female_{2} \n",
    " \\end{bmatrix} \n",
    " $\n",
    " \n",
    " where trait 1 = WWG, trait 2 = PWG."
   ]
  },
  {
   "cell_type": "markdown",
   "metadata": {},
   "source": [
    "Random effect `Animal`\n",
    "\n",
    "$Z * a= \n",
    "\\begin{bmatrix}\n",
    "Z_1&0 \\\\\n",
    "0&Z_2\n",
    "\\end{bmatrix} \n",
    "* a\n",
    "=\n",
    "\\begin{bmatrix}\n",
    "   0 & 0 & 0 & 1 & 0 & 0 & 0 & 0 & 0 & 0 & 0 & 0 & 0 & 0 & 0 & 0\\\\\n",
    "   0 & 0 & 0 & 0 & 1 & 0 & 0 & 0 & 0 & 0 & 0 & 0 & 0 & 0 & 0 & 0\\\\\n",
    "   0 & 0 & 0 & 0 & 0 & 1 & 0 & 0 & 0 & 0 & 0 & 0 & 0 & 0 & 0 & 0\\\\\n",
    "   0 & 0 & 0 & 0 & 0 & 0 & 1 & 0 & 0 & 0 & 0 & 0 & 0 & 0 & 0 & 0\\\\\n",
    "   0 & 0 & 0 & 0 & 0 & 0 & 0 & 1 & 0 & 0 & 0 & 0 & 0 & 0 & 0 & 0\\\\\n",
    "   0 & 0 & 0 & 0 & 0 & 0 & 0 & 0 & 0 & 0 & 0 & 1 & 0 & 0 & 0 & 0\\\\\n",
    "   0 & 0 & 0 & 0 & 0 & 0 & 0 & 0 & 0 & 0 & 0 & 0 & 1 & 0 & 0 & 0\\\\\n",
    "   0 & 0 & 0 & 0 & 0 & 0 & 0 & 0 & 0 & 0 & 0 & 0 & 0 & 1 & 0 & 0\\\\\n",
    "   0 & 0 & 0 & 0 & 0 & 0 & 0 & 0 & 0 & 0 & 0 & 0 & 0 & 0 & 1 & 0\\\\\n",
    "   0 & 0 & 0 & 0 & 0 & 0 & 0 & 0 & 0 & 0 & 0 & 0 & 0 & 0 & 0 & 1\\\\\n",
    "  \\end{bmatrix}\n",
    " *\n",
    "  \\begin{bmatrix}\n",
    " Animal1_1 \\\\\n",
    " Animal2_1 \\\\\n",
    " Animal3_1\\\\\n",
    " Animal4_1\\\\\n",
    " Animal5_1\\\\\n",
    " Animal6_1\\\\\n",
    " Animal7_1\\\\\n",
    " Animal8_1\\\\\n",
    " Animal1_2\\\\\n",
    " Animal2_2\\\\\n",
    " Animal3_2\\\\\n",
    " Animal4_2\\\\\n",
    " Animal5_2\\\\\n",
    " Animal6_2\\\\\n",
    " Animal7_2\\\\\n",
    " Animal8_2\\\\\n",
    " \\end{bmatrix} \n",
    "$\n"
   ]
  },
  {
   "cell_type": "markdown",
   "metadata": {},
   "source": [
    "Assume that the additive genetic covariance matrix is\n",
    "\n",
    "$ G = \n",
    "\\begin{bmatrix}\n",
    "20&18 \\\\\n",
    "18&40\n",
    "\\end{bmatrix}$\n",
    "\n",
    "and the residual covariance matrix is \n",
    "\n",
    "$ R = \n",
    "\\begin{bmatrix}\n",
    "40&11 \\\\\n",
    "11&30\n",
    "\\end{bmatrix}$"
   ]
  },
  {
   "cell_type": "markdown",
   "metadata": {},
   "source": [
    "## Constructing the R and AG "
   ]
  },
  {
   "cell_type": "code",
   "execution_count": 102,
   "metadata": {},
   "outputs": [],
   "source": [
    "g = [20 18\n",
    "     18 40]\n",
    "r = [40 11\n",
    "     11 30];"
   ]
  },
  {
   "cell_type": "code",
   "execution_count": 103,
   "metadata": {},
   "outputs": [],
   "source": [
    "I5 = Matrix{Float64}(I, 5, 5)\n",
    "R = [r[1,1]*I5 r[1,2]*I5\n",
    "     r[2,1]*I5 r[2,2]*I5];"
   ]
  },
  {
   "cell_type": "code",
   "execution_count": 104,
   "metadata": {},
   "outputs": [],
   "source": [
    "# Calculate A\n",
    "ped=[\n",
    "1 0 0\n",
    "2 0 0\n",
    "3 0 0\n",
    "4 1 0\n",
    "5 3 2\n",
    "6 1 2\n",
    "7 4 5\n",
    "8 3 6\n",
    "];\n",
    "s=ped[:,2]\n",
    "d=ped[:,3]\n",
    "n = length(s)\n",
    "s=(s .== 0)*n .+s\n",
    "d=(d .== 0)*n .+d;\n",
    "A = zeros(n,n);\n",
    "for i in 1:n\n",
    "    A[i,i] = 1 + A[s[i], d[i]]/2\n",
    "    for j in (i+1):n    \n",
    "        A[i,j] = ( A[i, s[j]] + A[i, d[j]] ) / 2  \n",
    "        A[j,i] = A[i,j] \n",
    "    end           \n",
    "end"
   ]
  },
  {
   "cell_type": "code",
   "execution_count": 105,
   "metadata": {},
   "outputs": [],
   "source": [
    "AG = [g[1,1]*A g[1,2]*A\n",
    "      g[2,1]*A g[2,2]*A];"
   ]
  },
  {
   "cell_type": "markdown",
   "metadata": {},
   "source": [
    "## Calculation"
   ]
  },
  {
   "cell_type": "code",
   "execution_count": 106,
   "metadata": {},
   "outputs": [],
   "source": [
    "X = [1 0 0 0; \n",
    "     0 1 0 0; \n",
    "     0 1 0 0; \n",
    "     1 0 0 0;\n",
    "     1 0 0 0;\n",
    "     0 0 1 0;\n",
    "     0 0 0 1;\n",
    "     0 0 0 1;\n",
    "     0 0 1 0;\n",
    "     0 0 1 0];\n",
    "Z1 =[zeros(5,3) I]\n",
    "Z = [Z1 zeros(5,8)\n",
    "     zeros(5,8) Z1];\n",
    "y= [data[:WWG]\n",
    "    data[:PWG]];"
   ]
  },
  {
   "cell_type": "code",
   "execution_count": 107,
   "metadata": {},
   "outputs": [],
   "source": [
    "LHS=[X'inv(R)X X'inv(R)Z\n",
    "     Z'inv(R)X Z'inv(R)Z+inv(AG)]\n",
    "LHS_inv=inv(LHS)\n",
    "RHS=[X'inv(R)y\n",
    "     Z'inv(R)y];"
   ]
  },
  {
   "cell_type": "code",
   "execution_count": 108,
   "metadata": {},
   "outputs": [],
   "source": [
    "res=LHS_inv * RHS;"
   ]
  },
  {
   "cell_type": "code",
   "execution_count": 109,
   "metadata": {},
   "outputs": [],
   "source": [
    "para=[\"Male1\",\"Female1\", \"Male2\",\"Female2\",\n",
    "      \"Animal11\",\"Animal21\",\"Animal31\",\"Animal41\",\"Animal51\",\"Animal61\",\"Animal71\",\"Animal81\",\n",
    "      \"Animal12\",\"Animal22\",\"Animal32\",\"Animal42\",\"Animal52\",\"Animal62\",\"Animal72\",\"Animal82\"]\n",
    "res_book=[4.361, 3.397, 6.800, 5.880,\n",
    "          0.151, -0.015, -0.078, -0.010, -0.270, 0.276, -0.316, 0.244,\n",
    "          0.280, -0.008, -0.170, -0.013, -0.478, 0.517, -0.479, 0.392];"
   ]
  },
  {
   "cell_type": "code",
   "execution_count": 110,
   "metadata": {},
   "outputs": [
    {
     "data": {
      "text/plain": [
       "20×3 Array{Any,2}:\n",
       " \"Male1\"      4.36414     4.361\n",
       " \"Female1\"    3.39909     3.397\n",
       " \"Male2\"      6.80727     6.8  \n",
       " \"Female2\"    5.88378     5.88 \n",
       " \"Animal11\"   0.152203    0.151\n",
       " \"Animal21\"  -0.0171147  -0.015\n",
       " \"Animal31\"  -0.0800966  -0.078\n",
       " \"Animal41\"  -0.0201335  -0.01 \n",
       " \"Animal51\"  -0.272914   -0.27 \n",
       " \"Animal61\"   0.274738    0.276\n",
       " \"Animal71\"  -0.313812   -0.316\n",
       " \"Animal81\"   0.241533    0.244\n",
       " \"Animal12\"   0.28199     0.28 \n",
       " \"Animal22\"  -0.0108625  -0.008\n",
       " \"Animal32\"  -0.173655   -0.17 \n",
       " \"Animal42\"  -0.0295812  -0.013\n",
       " \"Animal52\"  -0.482584   -0.478\n",
       " \"Animal62\"   0.515026    0.517\n",
       " \"Animal72\"  -0.479577   -0.479\n",
       " \"Animal82\"   0.387355    0.392"
      ]
     },
     "execution_count": 110,
     "metadata": {},
     "output_type": "execute_result"
    }
   ],
   "source": [
    "[para res res_book]"
   ]
  },
  {
   "cell_type": "code",
   "execution_count": 111,
   "metadata": {},
   "outputs": [
    {
     "data": {
      "text/plain": [
       "0.9999982329299"
      ]
     },
     "execution_count": 111,
     "metadata": {},
     "output_type": "execute_result"
    }
   ],
   "source": [
    "cor(res,res_book)"
   ]
  },
  {
   "cell_type": "markdown",
   "metadata": {},
   "source": [
    "## JWAS"
   ]
  },
  {
   "cell_type": "code",
   "execution_count": 66,
   "metadata": {},
   "outputs": [],
   "source": [
    "using JWAS, JWAS.Datasets"
   ]
  },
  {
   "cell_type": "code",
   "execution_count": 79,
   "metadata": {},
   "outputs": [],
   "source": [
    "model_equation = \"WWG = Sex + Calves\n",
    "                  PWG = Sex + Calves\";"
   ]
  },
  {
   "cell_type": "code",
   "execution_count": 80,
   "metadata": {},
   "outputs": [],
   "source": [
    "R = r\n",
    "model = build_model(model_equation,R);"
   ]
  },
  {
   "cell_type": "code",
   "execution_count": 81,
   "metadata": {},
   "outputs": [
    {
     "name": "stdout",
     "output_type": "stream",
     "text": [
      "Finished!\n"
     ]
    }
   ],
   "source": [
    "pedfile = \"pedigree_5_2.txt\"\n",
    "pedigree   = get_pedigree(pedfile,separator=\",\", header = false);"
   ]
  },
  {
   "cell_type": "code",
   "execution_count": 82,
   "metadata": {},
   "outputs": [],
   "source": [
    "G = g\n",
    "set_random(model, \"Calves\", pedigree, G)"
   ]
  },
  {
   "cell_type": "code",
   "execution_count": 83,
   "metadata": {},
   "outputs": [],
   "source": [
    "outputMCMCsamples(model)"
   ]
  },
  {
   "cell_type": "code",
   "execution_count": 84,
   "metadata": {},
   "outputs": [
    {
     "name": "stdout",
     "output_type": "stream",
     "text": [
      "A Linear Mixed Model was build using model equations:\n",
      "\n",
      "WWG = Sex + Calves\n",
      "PWG = Sex + Calves\n",
      "\n",
      "Model Information:\n",
      "\n",
      "Term            C/F          F/R            nLevels\n",
      "Sex             factor       fixed                2\n",
      "Calves          factor       random               8\n",
      "\n",
      "MCMC Information:\n",
      "\n",
      "methods                        conventional (no markers)\n",
      "chain_length                                 100000\n",
      "burnin                                         5000\n",
      "starting_value                                false\n",
      "printout_frequency                           100001\n",
      "output_samples_frequency                        100\n",
      "constraint                                    false\n",
      "missing_phenotypes                            false\n",
      "update_priors_frequency                           0\n",
      "\n",
      "Hyper-parameters Information: \n",
      "\n",
      "residual variances:           \n",
      " 40.0  11.0\n",
      " 11.0  30.0\n",
      "genetic variances (polygenic):\n",
      " 20.0  18.0\n",
      " 18.0  40.0\n",
      "\n",
      "Degree of freedom for hyper-parameters:\n",
      "\n",
      "residual variances:                           4.000\n",
      "iid random effect variances:                  4.000\n",
      "polygenic effect variances:                   4.000\n",
      "\n",
      "\n",
      "\n",
      "\u001b[31mThe file MCMC_samples_residual_variance.txt already exists!!! It is overwritten by the new output.\u001b[39m\n",
      "\u001b[31mThe file MCMC_samples_polygenic_effects_variance.txt already exists!!! It is overwritten by the new output.\u001b[39m\n"
     ]
    },
    {
     "name": "stderr",
     "output_type": "stream",
     "text": [
      "\u001b[32mrunning MCMC for conventional (no markers)...100%|██████| Time: 0:00:09\u001b[39m\n"
     ]
    },
    {
     "data": {
      "text/plain": [
       "Dict{Any,Any} with 5 entries:\n",
       "  \"Posterior mean of polyg… => [13.8164 11.4372; 11.4372 25.7168]\n",
       "  \"EBV_WWG\"                 => Any[\"a6\" 0.31041; \"a7\" -0.301603; … ; \"a5\" -0.24…\n",
       "  \"Posterior mean of resid… => [22.6201 7.09696; 7.09696 18.6083]\n",
       "  \"EBV_PWG\"                 => Any[\"a6\" 0.506678; \"a7\" -0.481441; … ; \"a5\" -0.4…\n",
       "  \"Posterior mean of locat… => 20×4 DataFrame…"
      ]
     },
     "execution_count": 84,
     "metadata": {},
     "output_type": "execute_result"
    }
   ],
   "source": [
    "out=runMCMC(model,data,chain_length=100000,output_samples_frequency=100, burnin = 5000)"
   ]
  },
  {
   "cell_type": "code",
   "execution_count": 85,
   "metadata": {},
   "outputs": [
    {
     "data": {
      "text/plain": [
       "Base.KeySet for a Dict{Any,Any} with 5 entries. Keys:\n",
       "  \"Posterior mean of polygenic effects covariance matrix\"\n",
       "  \"EBV_WWG\"\n",
       "  \"Posterior mean of residual variance\"\n",
       "  \"EBV_PWG\"\n",
       "  \"Posterior mean of location parameters\""
      ]
     },
     "execution_count": 85,
     "metadata": {},
     "output_type": "execute_result"
    }
   ],
   "source": [
    "keys(out)"
   ]
  },
  {
   "cell_type": "code",
   "execution_count": 88,
   "metadata": {},
   "outputs": [],
   "source": [
    "### EBV for WWG trait \n",
    "MCMC_EBV_WWG = out[\"EBV_WWG\"][:,2];"
   ]
  },
  {
   "cell_type": "code",
   "execution_count": 89,
   "metadata": {},
   "outputs": [],
   "source": [
    "book_EBV_WWG = [0.276, -0.316, -0.078, 0.244, -0.015, 0.151, -0.270, -0.010];"
   ]
  },
  {
   "cell_type": "code",
   "execution_count": 90,
   "metadata": {},
   "outputs": [
    {
     "data": {
      "text/plain": [
       "0.9985656653853852"
      ]
     },
     "execution_count": 90,
     "metadata": {},
     "output_type": "execute_result"
    }
   ],
   "source": [
    "cor(MCMC_EBV_WWG, book_EBV_WWG)"
   ]
  },
  {
   "cell_type": "code",
   "execution_count": 92,
   "metadata": {},
   "outputs": [],
   "source": [
    "### EBV for PWG trait \n",
    "MCMC_EBV_PWG = out[\"EBV_PWG\"][:,2];"
   ]
  },
  {
   "cell_type": "code",
   "execution_count": 93,
   "metadata": {},
   "outputs": [],
   "source": [
    "book_EBV_PWG = [0.517, -0.479, -0.170, 0.392, -0.008, 0.280, -0.478, -0.013];"
   ]
  },
  {
   "cell_type": "code",
   "execution_count": 94,
   "metadata": {},
   "outputs": [
    {
     "data": {
      "text/plain": [
       "0.9985656653853852"
      ]
     },
     "execution_count": 94,
     "metadata": {},
     "output_type": "execute_result"
    }
   ],
   "source": [
    "cor(MCMC_EBV_WWG, book_EBV_WWG)"
   ]
  },
  {
   "cell_type": "code",
   "execution_count": 98,
   "metadata": {},
   "outputs": [],
   "source": [
    "### All the parameters\n",
    "res_MCMC = out[\"Posterior mean of location parameters\"][:Estimate];"
   ]
  },
  {
   "cell_type": "code",
   "execution_count": 99,
   "metadata": {},
   "outputs": [],
   "source": [
    "res_book = [4.361, 3.397, 0.151, -0.015, 0.276, -0.010, -0.078, -0.270, -0.316, 0.244,\n",
    "            6.800, 5.880, 0.280, -0.008, 0.517, -0.013, -0.170, -0.478, -0.479, 0.392];"
   ]
  },
  {
   "cell_type": "code",
   "execution_count": 100,
   "metadata": {},
   "outputs": [
    {
     "data": {
      "text/plain": [
       "0.9999387873503853"
      ]
     },
     "execution_count": 100,
     "metadata": {},
     "output_type": "execute_result"
    }
   ],
   "source": [
    "cor(res_MCMC, res_book)"
   ]
  },
  {
   "cell_type": "code",
   "execution_count": null,
   "metadata": {},
   "outputs": [],
   "source": []
  }
 ],
 "metadata": {
  "kernelspec": {
   "display_name": "Julia 1.1.0",
   "language": "julia",
   "name": "julia-1.1"
  },
  "language_info": {
   "file_extension": ".jl",
   "mimetype": "application/julia",
   "name": "julia",
   "version": "1.1.0"
  }
 },
 "nbformat": 4,
 "nbformat_minor": 2
}
