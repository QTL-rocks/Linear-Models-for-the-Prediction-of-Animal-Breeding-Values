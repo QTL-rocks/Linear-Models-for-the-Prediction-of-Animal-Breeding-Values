{
 "cells": [
  {
   "cell_type": "markdown",
   "metadata": {},
   "source": [
    "# 4.3 Model with Common Environmental Effects\n",
    "---\n",
    "Tianjing Zhao"
   ]
  },
  {
   "cell_type": "markdown",
   "metadata": {},
   "source": [
    "# Recall: 4.2 Repeatability Model\n",
    "\n",
    "$y = X * b + Z * a + W * pe + e$  \n",
    "* repeated records for each animal\n",
    "\n",
    "|Cow|Pe|Fat_yield|\n",
    "|---|--|---------|\n",
    "|a1 |1 |120.0   |\n",
    "|a1 |1 |124.0   |\n",
    "|a1 |1 |112.0   |\n",
    " \n",
    "* Similarity between records of an individual due to permanent environment($pe$)"
   ]
  },
  {
   "cell_type": "markdown",
   "metadata": {},
   "source": [
    "# Today: Similarity between relatives due to commom environment. \n",
    "* When family members are reared together, share a common environment. eg. share same milk from dam(mother)\n",
    "* Assume each dam(mother) reared her progeny under similar environment, differences in `mothering ability` amoung dams would cause environmental variance between families."
   ]
  },
  {
   "cell_type": "markdown",
   "metadata": {},
   "source": [
    "# Model\n",
    "$y = X * b + Z * a + W * c + e$  \n",
    "\n",
    "Where  \n",
    "* $y$ = vector of observations\n",
    "* $b$ = vector of fixed effects\n",
    "* $a$ = vector of addtive random animal effects\n",
    "* $c$ = vector of commom environmental effects\n",
    "* $e$ = vector of random residual effect\n",
    "* $X,Z,W$ = incidence matrix  \n",
    "\n",
    "and\n",
    "\n",
    "* $var(c) = I\\sigma^2_{c}$\n",
    "* $var(e) = I \\sigma^2_e =R$\n",
    "* $var(a) = A \\sigma^2_a$\n",
    "* $var(y) = ZAZ'\\sigma^2_a + WI\\sigma^2_{c}W'+ R$"
   ]
  },
  {
   "cell_type": "markdown",
   "metadata": {},
   "source": [
    "## MME\n",
    "\n",
    "<center>$\\begin{bmatrix}\n",
    "X'X & X'Z & X'W \\\\\n",
    "Z'X & Z'Z + A^{-1}\\alpha_1 & Z'W \\\\\n",
    "W'X & W'Z & W'W+I\\alpha_2\n",
    "\\end{bmatrix}$\n",
    "$\\begin{bmatrix}\n",
    "\\hat{b} \\\\\n",
    "\\hat{a} \\\\\n",
    "\\hat{c}\n",
    "\\end{bmatrix}$\n",
    "=\n",
    "$\\begin{bmatrix}\n",
    "X'y \\\\\n",
    "Z'y \\\\\n",
    "W'y\n",
    "\\end{bmatrix}$</center>\n",
    "\n",
    "Where\n",
    "\n",
    "$\\alpha_1 = \\frac{\\sigma^2_e}{\\sigma^2_a}$\n",
    "\n",
    "$\\alpha_2 = \\frac{\\sigma^2_e}{\\sigma^2_{c}}$"
   ]
  },
  {
   "cell_type": "markdown",
   "metadata": {},
   "source": [
    "## Example"
   ]
  },
  {
   "cell_type": "code",
   "execution_count": 1,
   "metadata": {},
   "outputs": [
    {
     "data": {
      "text/html": [
       "<table class=\"data-frame\"><thead><tr><th></th><th>Piglet</th><th>Sire</th><th>Dam</th><th>Sex</th><th>Weight</th></tr><tr><th></th><th>String</th><th>String</th><th>String</th><th>String</th><th>Float64</th></tr></thead><tbody><p>10 rows × 5 columns</p><tr><th>1</th><td>a6</td><td>a1</td><td>a2</td><td>Male</td><td>90.0</td></tr><tr><th>2</th><td>a7</td><td>a1</td><td>a2</td><td>Female</td><td>70.0</td></tr><tr><th>3</th><td>a8</td><td>a1</td><td>a2</td><td>Female</td><td>65.0</td></tr><tr><th>4</th><td>a9</td><td>a3</td><td>a4</td><td>Female</td><td>98.0</td></tr><tr><th>5</th><td>a10</td><td>a3</td><td>a4</td><td>Male</td><td>106.0</td></tr><tr><th>6</th><td>a11</td><td>a3</td><td>a4</td><td>Female</td><td>60.0</td></tr><tr><th>7</th><td>a12</td><td>a3</td><td>a4</td><td>Female</td><td>80.0</td></tr><tr><th>8</th><td>a13</td><td>a1</td><td>a5</td><td>Male</td><td>100.0</td></tr><tr><th>9</th><td>a14</td><td>a1</td><td>a5</td><td>Female</td><td>85.0</td></tr><tr><th>10</th><td>a15</td><td>a1</td><td>a5</td><td>Male</td><td>68.0</td></tr></tbody></table>"
      ],
      "text/latex": [
       "\\begin{tabular}{r|ccccc}\n",
       "\t& Piglet & Sire & Dam & Sex & Weight\\\\\n",
       "\t\\hline\n",
       "\t& String & String & String & String & Float64\\\\\n",
       "\t\\hline\n",
       "\t1 & a6 & a1 & a2 & Male & 90.0 \\\\\n",
       "\t2 & a7 & a1 & a2 & Female & 70.0 \\\\\n",
       "\t3 & a8 & a1 & a2 & Female & 65.0 \\\\\n",
       "\t4 & a9 & a3 & a4 & Female & 98.0 \\\\\n",
       "\t5 & a10 & a3 & a4 & Male & 106.0 \\\\\n",
       "\t6 & a11 & a3 & a4 & Female & 60.0 \\\\\n",
       "\t7 & a12 & a3 & a4 & Female & 80.0 \\\\\n",
       "\t8 & a13 & a1 & a5 & Male & 100.0 \\\\\n",
       "\t9 & a14 & a1 & a5 & Female & 85.0 \\\\\n",
       "\t10 & a15 & a1 & a5 & Male & 68.0 \\\\\n",
       "\\end{tabular}\n"
      ],
      "text/plain": [
       "10×5 DataFrame\n",
       "│ Row │ Piglet │ Sire   │ Dam    │ Sex    │ Weight  │\n",
       "│     │ \u001b[90mString\u001b[39m │ \u001b[90mString\u001b[39m │ \u001b[90mString\u001b[39m │ \u001b[90mString\u001b[39m │ \u001b[90mFloat64\u001b[39m │\n",
       "├─────┼────────┼────────┼────────┼────────┼─────────┤\n",
       "│ 1   │ a6     │ a1     │ a2     │ Male   │ 90.0    │\n",
       "│ 2   │ a7     │ a1     │ a2     │ Female │ 70.0    │\n",
       "│ 3   │ a8     │ a1     │ a2     │ Female │ 65.0    │\n",
       "│ 4   │ a9     │ a3     │ a4     │ Female │ 98.0    │\n",
       "│ 5   │ a10    │ a3     │ a4     │ Male   │ 106.0   │\n",
       "│ 6   │ a11    │ a3     │ a4     │ Female │ 60.0    │\n",
       "│ 7   │ a12    │ a3     │ a4     │ Female │ 80.0    │\n",
       "│ 8   │ a13    │ a1     │ a5     │ Male   │ 100.0   │\n",
       "│ 9   │ a14    │ a1     │ a5     │ Female │ 85.0    │\n",
       "│ 10  │ a15    │ a1     │ a5     │ Male   │ 68.0    │"
      ]
     },
     "execution_count": 1,
     "metadata": {},
     "output_type": "execute_result"
    }
   ],
   "source": [
    "using DataFrames, LinearAlgebra, Statistics\n",
    "\n",
    "data = DataFrame(Piglet=[\"a6\",\"a7\",\"a8\",\"a9\",\"a10\",\"a11\",\"a12\",\"a13\",\"a14\",\"a15\"],\n",
    "                 Sire=[\"a1\",\"a1\",\"a1\",\"a3\",\"a3\",\"a3\",\"a3\",\"a1\",\"a1\",\"a1\"],\n",
    "                 Dam=[\"a2\",\"a2\",\"a2\",\"a4\",\"a4\",\"a4\",\"a4\",\"a5\",\"a5\",\"a5\"],\n",
    "                 Sex=[\"Male\",\"Female\",\"Female\",\"Female\",\"Male\",\"Female\",\"Female\",\"Male\",\"Female\",\"Male\"],\n",
    "                 Weight=[90.0,70,65,98,106,60,80,100,85,68])"
   ]
  },
  {
   "cell_type": "markdown",
   "metadata": {},
   "source": [
    "Fixed effect `Sex`\n",
    "\n",
    "$X * b=\n",
    " \\begin{bmatrix}\n",
    "   0 & 1  \\\\\n",
    "   1 & 0 \\\\\n",
    "   1 & 0 \\\\\n",
    "   1 & 0  \\\\\n",
    "   0 & 1  \\\\\n",
    "   1 & 0 \\\\\n",
    "   1 & 0  \\\\\n",
    "   0 & 1 \\\\\n",
    "   1 & 0  \\\\\n",
    "   0 & 1 \\\\\n",
    "  \\end{bmatrix} \n",
    " * \n",
    " \\begin{bmatrix}\n",
    " Female \\\\\n",
    " Male \\\\\n",
    " \\end{bmatrix} \n",
    " $"
   ]
  },
  {
   "cell_type": "markdown",
   "metadata": {},
   "source": [
    "Random effect `Animal`, and `Dam`(mother)\n",
    "\n",
    "$Z * a= \n",
    "\\begin{bmatrix}\n",
    "   0 & 0 & 0 & 0 & 0 & 1 & 0 & 0 & 0 & 0 & 0 & 0 & 0 & 0 & 0\\\\\n",
    "   0 & 0 & 0 & 0 & 0 & 0 & 1 & 0 & 0 & 0 & 0 & 0 & 0 & 0 & 0\\\\\n",
    "   0 & 0 & 0 & 0 & 0 & 0 & 0 & 1 & 0 & 0 & 0 & 0 & 0 & 0 & 0\\\\\n",
    "   0 & 0 & 0 & 0 & 0 & 0 & 0 & 0 & 1 & 0 & 0 & 0 & 0 & 0 & 0\\\\\n",
    "   0 & 0 & 0 & 0 & 0 & 0 & 0 & 0 & 0 & 1 & 0 & 0 & 0 & 0 & 0\\\\\n",
    "   0 & 0 & 0 & 0 & 0 & 0 & 0 & 0 & 0 & 0 & 1 & 0 & 0 & 0 & 0\\\\\n",
    "   0 & 0 & 0 & 0 & 0 & 0 & 0 & 0 & 0 & 0 & 0 & 1 & 0 & 0 & 0\\\\\n",
    "   0 & 0 & 0 & 0 & 0 & 0 & 0 & 0 & 0 & 0 & 0 & 0 & 1 & 0 & 0\\\\\n",
    "   0 & 0 & 0 & 0 & 0 & 0 & 0 & 0 & 0 & 0 & 0 & 0 & 0 & 1 & 0\\\\\n",
    "   0 & 0 & 0 & 0 & 0 & 0 & 0 & 0 & 0 & 0 & 0 & 0 & 0 & 0 & 1\\\\\n",
    "  \\end{bmatrix}\n",
    " *\n",
    "  \\begin{bmatrix}\n",
    " Animal1 \\\\\n",
    " Animal2 \\\\\n",
    " Animal3\\\\\n",
    " Animal4\\\\\n",
    " Animal5\\\\\n",
    " Animal6\\\\\n",
    " Animal7\\\\\n",
    " Animal8\\\\\n",
    " Animal9\\\\\n",
    " Animal10\\\\\n",
    " Animal11\\\\\n",
    " Animal12\\\\\n",
    " Animal13\\\\\n",
    " Animal14\\\\\n",
    " Animal15\\\\\n",
    " \\end{bmatrix} \n",
    "$\n",
    "\n",
    "$W *c =  \\begin{bmatrix}\n",
    "   0 & 0 & 1 \\\\\n",
    "   0 & 0 & 1 \\\\\n",
    "   0 & 0 & 1 \\\\\n",
    "   0 & 1 & 0 \\\\\n",
    "   0 & 1 & 0 \\\\\n",
    "   0 & 1 & 0 \\\\\n",
    "   0 & 1 & 0 \\\\\n",
    "   1 & 0 & 0 \\\\\n",
    "   1 & 0 & 0 \\\\\n",
    "   1 & 0 & 0 \\\\\n",
    "  \\end{bmatrix} *\n",
    "   \\begin{bmatrix}\n",
    " Dam5 \\\\\n",
    " Dam4 \\\\\n",
    " Dam2\\\\\n",
    " \\end{bmatrix} \n",
    "$"
   ]
  },
  {
   "cell_type": "markdown",
   "metadata": {},
   "source": [
    "## Calculation"
   ]
  },
  {
   "cell_type": "code",
   "execution_count": 2,
   "metadata": {},
   "outputs": [],
   "source": [
    "# Calculate A\n",
    "ped=[\n",
    "1 0 0\n",
    "2 0 0\n",
    "3 0 0\n",
    "4 0 0\n",
    "5 0 0\n",
    "6 1 2\n",
    "7 1 2\n",
    "8 1 2\n",
    "9 3 4\n",
    "10 3 4\n",
    "11 3 4\n",
    "12 3 4\n",
    "13 1 5\n",
    "14 1 5\n",
    "15 1 5\n",
    "];\n",
    "s=ped[:,2]\n",
    "d=ped[:,3]\n",
    "n = length(s)\n",
    "s=(s .== 0)*n .+s\n",
    "d=(d .== 0)*n .+d;\n",
    "A = zeros(n,n);\n",
    "for i in 1:n\n",
    "    A[i,i] = 1 + A[s[i], d[i]]/2\n",
    "    for j in (i+1):n    \n",
    "        A[i,j] = ( A[i, s[j]] + A[i, d[j]] ) / 2  \n",
    "        A[j,i] = A[i,j] \n",
    "    end           \n",
    "end"
   ]
  },
  {
   "cell_type": "code",
   "execution_count": 3,
   "metadata": {},
   "outputs": [],
   "source": [
    "X=[0 1\n",
    "   1 0\n",
    "   1 0\n",
    "   1 0\n",
    "   0 1\n",
    "   1 0\n",
    "   1 0\n",
    "   0 1\n",
    "   1 0\n",
    "   0 1]\n",
    "W=[0 0 1\n",
    "   0 0 1\n",
    "   0 0 1\n",
    "   0 1 0\n",
    "   0 1 0\n",
    "   0 1 0\n",
    "   0 1 0\n",
    "   1 0 0\n",
    "   1 0 0\n",
    "   1 0 0]\n",
    "Z=[zeros(10,5) I]\n",
    "y=data[:Weight]\n",
    "\n",
    "vara=20\n",
    "vare=65\n",
    "varc=15\n",
    "alpha1=vare/vara\n",
    "alpha2=vare/varc;"
   ]
  },
  {
   "cell_type": "code",
   "execution_count": 4,
   "metadata": {},
   "outputs": [],
   "source": [
    "LHS=[X'X X'Z X'W\n",
    "     Z'X Z'Z+inv(A)*alpha1 Z'W\n",
    "     W'X W'Z W'W+I*alpha2]\n",
    "LHS_inv=inv(LHS)\n",
    "RHS=[X'y\n",
    "     Z'y\n",
    "     W'y];"
   ]
  },
  {
   "cell_type": "code",
   "execution_count": 5,
   "metadata": {},
   "outputs": [],
   "source": [
    "res=LHS_inv * RHS;"
   ]
  },
  {
   "cell_type": "code",
   "execution_count": 6,
   "metadata": {},
   "outputs": [],
   "source": [
    "para=[\"Female\",\"Male\",\n",
    "      \"Animal1\",\"Animal2\",\"Animal3\",\"Animal4\",\"Animal5\",\"Animal6\",\"Animal7\",\"Animal8\",\"Animal9\",\"Animal10\",\n",
    "      \"Animal11\",\"Animal12\",\"Animal13\",\"Animal14\",\"Animal15\",\n",
    "      \"Dam5\",\"Dam4\",\"Dam2\"]\n",
    "res_book=[75.764, 91.493,\n",
    "          -1.441, -1.175, 1.441, 1.441, -0.266, -1.098, -1.667, -2.334, 3.925, 2.895,\n",
    "          -1.141, 1.525, 0.448, 0.545, -3.819,\n",
    "          -0.399,2.161,-1.762];"
   ]
  },
  {
   "cell_type": "code",
   "execution_count": 7,
   "metadata": {},
   "outputs": [
    {
     "data": {
      "text/plain": [
       "20×3 Array{Any,2}:\n",
       " \"Female\"    75.7644    75.764\n",
       " \"Male\"      91.4931    91.493\n",
       " \"Animal1\"   -1.44077   -1.441\n",
       " \"Animal2\"   -1.17488   -1.175\n",
       " \"Animal3\"    1.44077    1.441\n",
       " \"Animal4\"    1.44077    1.441\n",
       " \"Animal5\"   -0.265894  -0.266\n",
       " \"Animal6\"   -1.09756   -1.098\n",
       " \"Animal7\"   -1.66707   -1.667\n",
       " \"Animal8\"   -2.33373   -2.334\n",
       " \"Animal9\"    3.92526    3.925\n",
       " \"Animal10\"   2.89476    2.895\n",
       " \"Animal11\"  -1.14141   -1.141\n",
       " \"Animal12\"   1.52526    1.525\n",
       " \"Animal13\"   0.447871   0.448\n",
       " \"Animal14\"   0.545031   0.545\n",
       " \"Animal15\"  -3.8188    -3.819\n",
       " \"Dam5\"      -0.398841  -0.399\n",
       " \"Dam4\"       2.16116    2.161\n",
       " \"Dam2\"      -1.76232   -1.762"
      ]
     },
     "execution_count": 7,
     "metadata": {},
     "output_type": "execute_result"
    }
   ],
   "source": [
    "[para res res_book]"
   ]
  },
  {
   "cell_type": "code",
   "execution_count": 8,
   "metadata": {},
   "outputs": [
    {
     "data": {
      "text/plain": [
       "0.9999999999583663"
      ]
     },
     "execution_count": 8,
     "metadata": {},
     "output_type": "execute_result"
    }
   ],
   "source": [
    "cor(res,res_book)"
   ]
  },
  {
   "cell_type": "markdown",
   "metadata": {},
   "source": [
    "## JWAS"
   ]
  },
  {
   "cell_type": "code",
   "execution_count": 151,
   "metadata": {},
   "outputs": [],
   "source": [
    "using JWAS"
   ]
  },
  {
   "cell_type": "code",
   "execution_count": 164,
   "metadata": {},
   "outputs": [
    {
     "data": {
      "text/html": [
       "<table class=\"data-frame\"><thead><tr><th></th><th>Piglet</th><th>Sire</th><th>Dam</th><th>Sex</th><th>Weight</th></tr><tr><th></th><th>String</th><th>String</th><th>String</th><th>String</th><th>Float64</th></tr></thead><tbody><p>10 rows × 5 columns</p><tr><th>1</th><td>a6</td><td>a1</td><td>a2</td><td>Male</td><td>90.0</td></tr><tr><th>2</th><td>a7</td><td>a1</td><td>a2</td><td>Female</td><td>70.0</td></tr><tr><th>3</th><td>a8</td><td>a1</td><td>a2</td><td>Female</td><td>65.0</td></tr><tr><th>4</th><td>a9</td><td>a3</td><td>a4</td><td>Female</td><td>98.0</td></tr><tr><th>5</th><td>a10</td><td>a3</td><td>a4</td><td>Male</td><td>106.0</td></tr><tr><th>6</th><td>a11</td><td>a3</td><td>a4</td><td>Female</td><td>60.0</td></tr><tr><th>7</th><td>a12</td><td>a3</td><td>a4</td><td>Female</td><td>80.0</td></tr><tr><th>8</th><td>a13</td><td>a1</td><td>a5</td><td>Male</td><td>100.0</td></tr><tr><th>9</th><td>a14</td><td>a1</td><td>a5</td><td>Female</td><td>85.0</td></tr><tr><th>10</th><td>a15</td><td>a1</td><td>a5</td><td>Male</td><td>68.0</td></tr></tbody></table>"
      ],
      "text/latex": [
       "\\begin{tabular}{r|ccccc}\n",
       "\t& Piglet & Sire & Dam & Sex & Weight\\\\\n",
       "\t\\hline\n",
       "\t& String & String & String & String & Float64\\\\\n",
       "\t\\hline\n",
       "\t1 & a6 & a1 & a2 & Male & 90.0 \\\\\n",
       "\t2 & a7 & a1 & a2 & Female & 70.0 \\\\\n",
       "\t3 & a8 & a1 & a2 & Female & 65.0 \\\\\n",
       "\t4 & a9 & a3 & a4 & Female & 98.0 \\\\\n",
       "\t5 & a10 & a3 & a4 & Male & 106.0 \\\\\n",
       "\t6 & a11 & a3 & a4 & Female & 60.0 \\\\\n",
       "\t7 & a12 & a3 & a4 & Female & 80.0 \\\\\n",
       "\t8 & a13 & a1 & a5 & Male & 100.0 \\\\\n",
       "\t9 & a14 & a1 & a5 & Female & 85.0 \\\\\n",
       "\t10 & a15 & a1 & a5 & Male & 68.0 \\\\\n",
       "\\end{tabular}\n"
      ],
      "text/plain": [
       "10×5 DataFrame\n",
       "│ Row │ Piglet │ Sire   │ Dam    │ Sex    │ Weight  │\n",
       "│     │ \u001b[90mString\u001b[39m │ \u001b[90mString\u001b[39m │ \u001b[90mString\u001b[39m │ \u001b[90mString\u001b[39m │ \u001b[90mFloat64\u001b[39m │\n",
       "├─────┼────────┼────────┼────────┼────────┼─────────┤\n",
       "│ 1   │ a6     │ a1     │ a2     │ Male   │ 90.0    │\n",
       "│ 2   │ a7     │ a1     │ a2     │ Female │ 70.0    │\n",
       "│ 3   │ a8     │ a1     │ a2     │ Female │ 65.0    │\n",
       "│ 4   │ a9     │ a3     │ a4     │ Female │ 98.0    │\n",
       "│ 5   │ a10    │ a3     │ a4     │ Male   │ 106.0   │\n",
       "│ 6   │ a11    │ a3     │ a4     │ Female │ 60.0    │\n",
       "│ 7   │ a12    │ a3     │ a4     │ Female │ 80.0    │\n",
       "│ 8   │ a13    │ a1     │ a5     │ Male   │ 100.0   │\n",
       "│ 9   │ a14    │ a1     │ a5     │ Female │ 85.0    │\n",
       "│ 10  │ a15    │ a1     │ a5     │ Male   │ 68.0    │"
      ]
     },
     "execution_count": 164,
     "metadata": {},
     "output_type": "execute_result"
    }
   ],
   "source": [
    "data"
   ]
  },
  {
   "cell_type": "code",
   "execution_count": 165,
   "metadata": {},
   "outputs": [],
   "source": [
    "model_equation1  =\"Weight = Piglet + Sex + Dam\";"
   ]
  },
  {
   "cell_type": "code",
   "execution_count": 166,
   "metadata": {},
   "outputs": [],
   "source": [
    "model1 = build_model(model_equation1,vare);"
   ]
  },
  {
   "cell_type": "code",
   "execution_count": 167,
   "metadata": {},
   "outputs": [],
   "source": [
    "set_random(model1,\"Dam\",varc);"
   ]
  },
  {
   "cell_type": "code",
   "execution_count": 168,
   "metadata": {},
   "outputs": [
    {
     "name": "stdout",
     "output_type": "stream",
     "text": [
      "\u001b[31mThe delimiter in pedigree_4_2.txt is ' '.\u001b[39m\n",
      "Finished!\n"
     ]
    },
    {
     "data": {
      "text/plain": [
       "JWAS.PedModule.Pedigree(16, Dict{AbstractString,JWAS.PedModule.PedNode}(\"a13\"=>PedNode(3, \"a1\", \"a5\", 0.0),\"a2\"=>PedNode(4, \"0\", \"0\", 0.0),\"a1\"=>PedNode(1, \"0\", \"0\", 0.0),\"a15\"=>PedNode(5, \"a1\", \"a5\", 0.0),\"a7\"=>PedNode(6, \"a1\", \"a2\", 0.0),\"a12\"=>PedNode(9, \"a3\", \"a4\", 0.0),\"a5\"=>PedNode(2, \"0\", \"0\", 0.0),\"a3\"=>PedNode(7, \"0\", \"0\", 0.0),\"a14\"=>PedNode(10, \"a1\", \"a5\", 0.0),\"a4\"=>PedNode(8, \"0\", \"0\", 0.0)…), Dict(7=>0.0,35=>0.0,2=>0.0), Set(Any[]), Set(Any[]), Set(Any[]), Set(Any[]), [\"a1\", \"a5\", \"a13\", \"a2\", \"a15\", \"a7\", \"a3\", \"a4\", \"a12\", \"a14\", \"a6\", \"a10\", \"a11\", \"a8\", \"a9\"])"
      ]
     },
     "execution_count": 168,
     "metadata": {},
     "output_type": "execute_result"
    }
   ],
   "source": [
    "pedfile = \"pedigree_4_3.txt\"\n",
    "pedigree   = get_pedigree(pedfile,separator=\" \",header=true)"
   ]
  },
  {
   "cell_type": "code",
   "execution_count": 169,
   "metadata": {},
   "outputs": [],
   "source": [
    "set_random(model1,\"Piglet\",pedigree,vara)"
   ]
  },
  {
   "cell_type": "code",
   "execution_count": 170,
   "metadata": {},
   "outputs": [
    {
     "name": "stdout",
     "output_type": "stream",
     "text": [
      "\u001b[0m\u001b[1mA Linear Mixed Model was build using model equations:\u001b[22m\n",
      "\n",
      "Weight = Piglet + Sex + Dam\n",
      "\n",
      "\u001b[0m\u001b[1mModel Information:\u001b[22m\n",
      "\n",
      "Term            C/F          F/R            nLevels\n",
      "Piglet          factor       random              15\n",
      "Sex             factor       fixed                2\n",
      "Dam             factor       random               3\n",
      "\n",
      "\u001b[0m\u001b[1mMCMC Information:\u001b[22m\n",
      "\n",
      "methods                        conventional (no markers)\n",
      "chain_length                                  50000\n",
      "burnin                                        10000\n",
      "estimateScale                                 false\n",
      "starting_value                                false\n",
      "printout_frequency                            50001\n",
      "output_samples_frequency                       1000\n",
      "constraint                                    false\n",
      "missing_phenotypes                             true\n",
      "update_priors_frequency                           0\n",
      "\n",
      "\u001b[0m\u001b[1mHyper-parameters Information:\u001b[22m\n",
      "\n",
      "random effect variances (Dam):               [15.0]\n",
      "residual variances:                          65.000\n",
      "genetic variances (polygenic):\n",
      "                                             [20.0]\n",
      "\n",
      "\u001b[0m\u001b[1mDegree of freedom for hyper-parameters:\u001b[22m\n",
      "\n",
      "residual variances:                           4.000\n",
      "iid random effect variances:                  4.000\n",
      "polygenic effect variances:                   4.000\n",
      "\n",
      "\n",
      "\n",
      "\u001b[31mThe file MCMC_samples_residual_variance.txt already exists!!! It is overwritten by the new output.\u001b[39m\n",
      "\u001b[31mThe file MCMC_samples_polygenic_effects_variance.txt already exists!!! It is overwritten by the new output.\u001b[39m\n",
      "\u001b[31mThe file MCMC_samples_Dam_variances.txt already exists!!! It is overwritten by the new output.\u001b[39m\n",
      "\u001b[31mThe file MCMC_samples_EBV_Weight.txt already exists!!! It is overwritten by the new output.\u001b[39m\n"
     ]
    },
    {
     "name": "stderr",
     "output_type": "stream",
     "text": [
      "\u001b[32mrunning MCMC for conventional (no markers)...100%|██████| Time: 0:00:02\u001b[39m\n"
     ]
    },
    {
     "data": {
      "text/html": [
       "<table class=\"data-frame\"><thead><tr><th></th><th>Trait</th><th>Effect</th><th>Level</th><th>Estimate</th></tr><tr><th></th><th>Any</th><th>Any</th><th>Any</th><th>Any</th></tr></thead><tbody><p>20 rows × 4 columns</p><tr><th>1</th><td>1</td><td>Piglet</td><td>a1</td><td>-1.02709</td></tr><tr><th>2</th><td>1</td><td>Piglet</td><td>a5</td><td>-0.202447</td></tr><tr><th>3</th><td>1</td><td>Piglet</td><td>a13</td><td>0.181482</td></tr><tr><th>4</th><td>1</td><td>Piglet</td><td>a2</td><td>-0.821926</td></tr><tr><th>5</th><td>1</td><td>Piglet</td><td>a15</td><td>-2.43181</td></tr><tr><th>6</th><td>1</td><td>Piglet</td><td>a7</td><td>-1.17629</td></tr><tr><th>7</th><td>1</td><td>Piglet</td><td>a3</td><td>1.082</td></tr><tr><th>8</th><td>1</td><td>Piglet</td><td>a4</td><td>1.12332</td></tr><tr><th>9</th><td>1</td><td>Piglet</td><td>a12</td><td>1.20893</td></tr><tr><th>10</th><td>1</td><td>Piglet</td><td>a14</td><td>0.225247</td></tr><tr><th>11</th><td>1</td><td>Piglet</td><td>a6</td><td>-0.819237</td></tr><tr><th>12</th><td>1</td><td>Piglet</td><td>a10</td><td>2.03634</td></tr><tr><th>13</th><td>1</td><td>Piglet</td><td>a11</td><td>-0.43049</td></tr><tr><th>14</th><td>1</td><td>Piglet</td><td>a8</td><td>-1.61331</td></tr><tr><th>15</th><td>1</td><td>Piglet</td><td>a9</td><td>2.68447</td></tr><tr><th>16</th><td>1</td><td>Sex</td><td>Male</td><td>91.2872</td></tr><tr><th>17</th><td>1</td><td>Sex</td><td>Female</td><td>75.919</td></tr><tr><th>18</th><td>1</td><td>Dam</td><td>a2</td><td>-0.912771</td></tr><tr><th>19</th><td>1</td><td>Dam</td><td>a4</td><td>1.19154</td></tr><tr><th>20</th><td>1</td><td>Dam</td><td>a5</td><td>-0.207609</td></tr></tbody></table>"
      ],
      "text/latex": [
       "\\begin{tabular}{r|cccc}\n",
       "\t& Trait & Effect & Level & Estimate\\\\\n",
       "\t\\hline\n",
       "\t& Any & Any & Any & Any\\\\\n",
       "\t\\hline\n",
       "\t1 & 1 & Piglet & a1 & -1.02709 \\\\\n",
       "\t2 & 1 & Piglet & a5 & -0.202447 \\\\\n",
       "\t3 & 1 & Piglet & a13 & 0.181482 \\\\\n",
       "\t4 & 1 & Piglet & a2 & -0.821926 \\\\\n",
       "\t5 & 1 & Piglet & a15 & -2.43181 \\\\\n",
       "\t6 & 1 & Piglet & a7 & -1.17629 \\\\\n",
       "\t7 & 1 & Piglet & a3 & 1.082 \\\\\n",
       "\t8 & 1 & Piglet & a4 & 1.12332 \\\\\n",
       "\t9 & 1 & Piglet & a12 & 1.20893 \\\\\n",
       "\t10 & 1 & Piglet & a14 & 0.225247 \\\\\n",
       "\t11 & 1 & Piglet & a6 & -0.819237 \\\\\n",
       "\t12 & 1 & Piglet & a10 & 2.03634 \\\\\n",
       "\t13 & 1 & Piglet & a11 & -0.43049 \\\\\n",
       "\t14 & 1 & Piglet & a8 & -1.61331 \\\\\n",
       "\t15 & 1 & Piglet & a9 & 2.68447 \\\\\n",
       "\t16 & 1 & Sex & Male & 91.2872 \\\\\n",
       "\t17 & 1 & Sex & Female & 75.919 \\\\\n",
       "\t18 & 1 & Dam & a2 & -0.912771 \\\\\n",
       "\t19 & 1 & Dam & a4 & 1.19154 \\\\\n",
       "\t20 & 1 & Dam & a5 & -0.207609 \\\\\n",
       "\\end{tabular}\n"
      ],
      "text/plain": [
       "20×4 DataFrame\n",
       "│ Row │ Trait │ Effect │ Level  │ Estimate  │\n",
       "│     │ \u001b[90mAny\u001b[39m   │ \u001b[90mAny\u001b[39m    │ \u001b[90mAny\u001b[39m    │ \u001b[90mAny\u001b[39m       │\n",
       "├─────┼───────┼────────┼────────┼───────────┤\n",
       "│ 1   │ 1     │ Piglet │ a1     │ -1.02709  │\n",
       "│ 2   │ 1     │ Piglet │ a5     │ -0.202447 │\n",
       "│ 3   │ 1     │ Piglet │ a13    │ 0.181482  │\n",
       "│ 4   │ 1     │ Piglet │ a2     │ -0.821926 │\n",
       "│ 5   │ 1     │ Piglet │ a15    │ -2.43181  │\n",
       "│ 6   │ 1     │ Piglet │ a7     │ -1.17629  │\n",
       "│ 7   │ 1     │ Piglet │ a3     │ 1.082     │\n",
       "│ 8   │ 1     │ Piglet │ a4     │ 1.12332   │\n",
       "│ 9   │ 1     │ Piglet │ a12    │ 1.20893   │\n",
       "│ 10  │ 1     │ Piglet │ a14    │ 0.225247  │\n",
       "│ 11  │ 1     │ Piglet │ a6     │ -0.819237 │\n",
       "│ 12  │ 1     │ Piglet │ a10    │ 2.03634   │\n",
       "│ 13  │ 1     │ Piglet │ a11    │ -0.43049  │\n",
       "│ 14  │ 1     │ Piglet │ a8     │ -1.61331  │\n",
       "│ 15  │ 1     │ Piglet │ a9     │ 2.68447   │\n",
       "│ 16  │ 1     │ Sex    │ Male   │ 91.2872   │\n",
       "│ 17  │ 1     │ Sex    │ Female │ 75.919    │\n",
       "│ 18  │ 1     │ Dam    │ a2     │ -0.912771 │\n",
       "│ 19  │ 1     │ Dam    │ a4     │ 1.19154   │\n",
       "│ 20  │ 1     │ Dam    │ a5     │ -0.207609 │"
      ]
     },
     "execution_count": 170,
     "metadata": {},
     "output_type": "execute_result"
    }
   ],
   "source": [
    "out1=runMCMC(model1,data,chain_length=50_000,output_samples_frequency=1000, burnin = 10_000)\n",
    "MCMC_res = out1[\"Posterior mean of location parameters\"]"
   ]
  },
  {
   "cell_type": "code",
   "execution_count": 171,
   "metadata": {},
   "outputs": [],
   "source": [
    "res_book=[-1.441, -0.266, 0.448, -1.175, -3.819, -1.667, 1.441, 1.441, 1.525, 0.545, -1.098, 2.895, -1.141, -2.334, 3.925, \n",
    "          91.493, 75.764, -1.762, 2.161, -0.399];"
   ]
  },
  {
   "cell_type": "code",
   "execution_count": 172,
   "metadata": {},
   "outputs": [
    {
     "data": {
      "text/plain": [
       "0.9996864922226147"
      ]
     },
     "execution_count": 172,
     "metadata": {},
     "output_type": "execute_result"
    }
   ],
   "source": [
    "cor(res_book,MCMC_res[:Estimate])"
   ]
  }
 ],
 "metadata": {
  "kernelspec": {
   "display_name": "Julia 1.1.0",
   "language": "julia",
   "name": "julia-1.1"
  },
  "language_info": {
   "file_extension": ".jl",
   "mimetype": "application/julia",
   "name": "julia",
   "version": "1.1.0"
  }
 },
 "nbformat": 4,
 "nbformat_minor": 2
}
