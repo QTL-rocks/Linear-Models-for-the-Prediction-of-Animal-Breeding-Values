{
 "cells": [
  {
   "cell_type": "markdown",
   "metadata": {},
   "source": [
    "# Chapter 3.3\n",
    "## A Model for an Animal Evaluation (Animal Model)"
   ]
  },
  {
   "cell_type": "markdown",
   "metadata": {},
   "source": [
    "Consider the following data set for the pre-weaning gain (WWG) of beef calves (calves assumed to be reared under the same management conditions). The objective is to estimate the effects of sex and predict the breeding values for all animals.\n",
    "\n",
    "Assume $\\sigma^2_u = 20$ and $\\sigma^2_e = 40$, therefore $\\lambda = \\frac{40}{20} = 2$"
   ]
  },
  {
   "cell_type": "code",
   "execution_count": 1,
   "metadata": {},
   "outputs": [
    {
     "data": {
      "text/html": [
       "<table class=\"data-frame\"><thead><tr><th></th><th>ID</th><th>sex</th><th>sire</th><th>dam</th><th>WWG</th></tr><tr><th></th><th>Int64</th><th>String</th><th>Int64</th><th>Any</th><th>Float64</th></tr></thead><tbody><p>5 rows × 5 columns</p><tr><th>1</th><td>4</td><td>male</td><td>1</td><td>NA</td><td>4.5</td></tr><tr><th>2</th><td>5</td><td>female</td><td>3</td><td>2</td><td>2.9</td></tr><tr><th>3</th><td>6</td><td>female</td><td>1</td><td>2</td><td>3.9</td></tr><tr><th>4</th><td>7</td><td>male</td><td>4</td><td>5</td><td>3.5</td></tr><tr><th>5</th><td>8</td><td>male</td><td>3</td><td>6</td><td>5.0</td></tr></tbody></table>"
      ],
      "text/latex": [
       "\\begin{tabular}{r|ccccc}\n",
       "\t& ID & sex & sire & dam & WWG\\\\\n",
       "\t\\hline\n",
       "\t& Int64 & String & Int64 & Any & Float64\\\\\n",
       "\t\\hline\n",
       "\t1 & 4 & male & 1 & NA & 4.5 \\\\\n",
       "\t2 & 5 & female & 3 & 2 & 2.9 \\\\\n",
       "\t3 & 6 & female & 1 & 2 & 3.9 \\\\\n",
       "\t4 & 7 & male & 4 & 5 & 3.5 \\\\\n",
       "\t5 & 8 & male & 3 & 6 & 5.0 \\\\\n",
       "\\end{tabular}\n"
      ],
      "text/plain": [
       "5×5 DataFrame\n",
       "│ Row │ ID    │ sex    │ sire  │ dam │ WWG     │\n",
       "│     │ \u001b[90mInt64\u001b[39m │ \u001b[90mString\u001b[39m │ \u001b[90mInt64\u001b[39m │ \u001b[90mAny\u001b[39m │ \u001b[90mFloat64\u001b[39m │\n",
       "├─────┼───────┼────────┼───────┼─────┼─────────┤\n",
       "│ 1   │ 4     │ male   │ 1     │ NA  │ 4.5     │\n",
       "│ 2   │ 5     │ female │ 3     │ 2   │ 2.9     │\n",
       "│ 3   │ 6     │ female │ 1     │ 2   │ 3.9     │\n",
       "│ 4   │ 7     │ male   │ 4     │ 5   │ 3.5     │\n",
       "│ 5   │ 8     │ male   │ 3     │ 6   │ 5.0     │"
      ]
     },
     "execution_count": 1,
     "metadata": {},
     "output_type": "execute_result"
    }
   ],
   "source": [
    "using JWAS, DataFrames, CSV, LinearAlgebra, Statistics\n",
    "\n",
    "data = DataFrame(ID=[4,5,6,7,8], sex=[\"male\",\"female\",\"female\",\"male\",\"male\"], sire=[1,3,1,4,3], dam=[\"NA\",2,2,5,6], WWG=[4.5,2.9,3.9,3.5,5.0])"
   ]
  },
  {
   "cell_type": "markdown",
   "metadata": {},
   "source": [
    "The model to describe the observations is:\n",
    "\n",
    "$y_{ij} = p_i + a_j +e_{ij}$\n",
    "\n",
    "where: \n",
    "\n",
    "$y_{ij} = $ the WWG of the $j$th calf of the $i$th sex\n",
    "\n",
    "$p_i = $ the fixed effect of the $i$th sex\n",
    "\n",
    "$a_j = $ the random effect of the $j$th calf\n",
    "\n",
    "$e_{ij} = $ the random error effect"
   ]
  },
  {
   "cell_type": "markdown",
   "metadata": {},
   "source": [
    "### The Linear Mixed Model\n",
    "\n",
    "Note that the above equation features both a fixed effect and a random effect. When we are working with a model where we distinguish certain parameters as fixed, and others as random, we are working with a mixed model. The general form of the linear mixed model is:\n",
    "\n",
    "$y = Xb + Zu + e$\n",
    "\n",
    "where:\n",
    "\n",
    "y = vector of measured responses\n",
    "\n",
    "X = design matrix of fixed effects\n",
    "\n",
    "b = vector of unknown fixed effect parameters\n",
    "\n",
    "Z = design matrix of random effects\n",
    "\n",
    "u = vector of unknown random effect parameters, u ~ N(0,G)\n",
    "\n",
    "e = vector of unknown random error effects, e ~ N(0, R)\n",
    "\n",
    "\n",
    "So, working with our example, let's set up the vectors and matrices."
   ]
  },
  {
   "cell_type": "code",
   "execution_count": 2,
   "metadata": {},
   "outputs": [],
   "source": [
    "y = [4.5, 2.9, 3.9, 3.5, 5.0]\n",
    "\n",
    "X = [1 0; 0 1; 0 1; 1 0; 1 0]\n",
    "b = [\"male\", \"female\"]\n",
    "\n",
    "Z = [0 0 0 1 0 0 0 0\n",
    "     0 0 0 0 1 0 0 0\n",
    "     0 0 0 0 0 1 0 0\n",
    "     0 0 0 0 0 0 1 0\n",
    "     0 0 0 0 0 0 0 1]\n",
    "u = [\"BV1\", \"BV2\", \"BV3\", \"BV4\", \"BV5\", \"BV6\", \"BV7\", \"BV8\"];"
   ]
  },
  {
   "cell_type": "markdown",
   "metadata": {},
   "source": [
    "### Best Linear Unbiased Estimation and Prediction (BLUE & BLUP)\n",
    "\n",
    "When we are working with a linear mixed model, we want to solve the model for the unknown parameters. We talk about <b>estimating</b> fixed effects (BLUE), and <b>predicting</b> random effects (BLUP)."
   ]
  },
  {
   "cell_type": "markdown",
   "metadata": {},
   "source": [
    "### Mixed Model Equations (MME)\n",
    "\n",
    "Henderson (1950) presented the mixed model equations, which simultaneously solves for b and u. The mixed model equations were derived by maximizing the joint probability density of y and u. In matrix notation, the MME can be expressed as:\n",
    "\n",
    "$\\begin{bmatrix}\n",
    "X'X & X'Z \\\\\n",
    "Z'X & Z'Z + G^{-1}\n",
    "\\end{bmatrix}$\n",
    "$\\begin{bmatrix}\n",
    "\\hat{\\beta} \\\\\n",
    "\\hat{u}\n",
    "\\end{bmatrix}$\n",
    "=\n",
    "$\\begin{bmatrix}\n",
    "X'y \\\\\n",
    "Z'y\n",
    "\\end{bmatrix}$"
   ]
  },
  {
   "cell_type": "markdown",
   "metadata": {},
   "source": [
    "Before we try to solve the MME for our example, let's look at the elements of the MME in our example:"
   ]
  },
  {
   "cell_type": "code",
   "execution_count": 3,
   "metadata": {},
   "outputs": [
    {
     "data": {
      "text/plain": [
       "2×2 Array{Int64,2}:\n",
       " 3  0\n",
       " 0  2"
      ]
     },
     "execution_count": 3,
     "metadata": {},
     "output_type": "execute_result"
    }
   ],
   "source": [
    "X' * X"
   ]
  },
  {
   "cell_type": "markdown",
   "metadata": {},
   "source": [
    "Remember that the $X$ matrix is associated with the fixed effect parameters. The first row of $X'X$ is associated with the first fixed parameter. In our example, the first fixed effect parameter is the male sex effect. So, the first row of $X'X$ tells us how many observations we have for the male sex effect. The second row of $X'X$ tells us how many observations we have for the female sex effect. The male and female effect are the 2 <b>levels</b> of the sex <b>factor</b>."
   ]
  },
  {
   "cell_type": "code",
   "execution_count": 4,
   "metadata": {},
   "outputs": [
    {
     "data": {
      "text/plain": [
       "8×8 Array{Int64,2}:\n",
       " 0  0  0  0  0  0  0  0\n",
       " 0  0  0  0  0  0  0  0\n",
       " 0  0  0  0  0  0  0  0\n",
       " 0  0  0  1  0  0  0  0\n",
       " 0  0  0  0  1  0  0  0\n",
       " 0  0  0  0  0  1  0  0\n",
       " 0  0  0  0  0  0  1  0\n",
       " 0  0  0  0  0  0  0  1"
      ]
     },
     "execution_count": 4,
     "metadata": {},
     "output_type": "execute_result"
    }
   ],
   "source": [
    "Z' * Z"
   ]
  },
  {
   "cell_type": "markdown",
   "metadata": {},
   "source": [
    "The $Z$ matrix is associated with the random effect parameters. It is useful to think of $Z'Z$ as a matrix of records for each animal. In our example, animals 1, 2, and 3 have no record, so the first 3 rows and columns are empty. Animals 4 through 8 all have 1 record associated with them.\n",
    "\n",
    "Note that Henderson's derivation adds the inverse $G$ matrix to this element."
   ]
  },
  {
   "cell_type": "code",
   "execution_count": 5,
   "metadata": {},
   "outputs": [
    {
     "data": {
      "text/plain": [
       "2×8 Array{Int64,2}:\n",
       " 0  0  0  1  0  0  1  1\n",
       " 0  0  0  0  1  1  0  0"
      ]
     },
     "execution_count": 5,
     "metadata": {},
     "output_type": "execute_result"
    }
   ],
   "source": [
    "X' * Z"
   ]
  },
  {
   "cell_type": "code",
   "execution_count": 6,
   "metadata": {},
   "outputs": [
    {
     "data": {
      "text/plain": [
       "8×2 Array{Int64,2}:\n",
       " 0  0\n",
       " 0  0\n",
       " 0  0\n",
       " 1  0\n",
       " 0  1\n",
       " 0  1\n",
       " 1  0\n",
       " 1  0"
      ]
     },
     "execution_count": 6,
     "metadata": {},
     "output_type": "execute_result"
    }
   ],
   "source": [
    "Z' * X"
   ]
  },
  {
   "cell_type": "markdown",
   "metadata": {},
   "source": [
    "$X'Z$ and $Z'X$ are transposes of each other. In $X'Z$, the rows are associated with levels, while the columns are associated with records. For example, row 1 column 4 tells us that animal 4 has one record for the male effect. $Z'X$ tells us the same information, but with the rows and columns switched."
   ]
  },
  {
   "cell_type": "code",
   "execution_count": 7,
   "metadata": {},
   "outputs": [
    {
     "data": {
      "text/plain": [
       "2-element Array{Float64,1}:\n",
       " 13.0\n",
       "  6.8"
      ]
     },
     "execution_count": 7,
     "metadata": {},
     "output_type": "execute_result"
    }
   ],
   "source": [
    "X' * y"
   ]
  },
  {
   "cell_type": "markdown",
   "metadata": {},
   "source": [
    "The rows of $X'y$ are the sums of $y$ for each level of the fixed effect factors."
   ]
  },
  {
   "cell_type": "code",
   "execution_count": 8,
   "metadata": {},
   "outputs": [
    {
     "data": {
      "text/plain": [
       "8-element Array{Float64,1}:\n",
       " 0.0\n",
       " 0.0\n",
       " 0.0\n",
       " 4.5\n",
       " 2.9\n",
       " 3.9\n",
       " 3.5\n",
       " 5.0"
      ]
     },
     "execution_count": 8,
     "metadata": {},
     "output_type": "execute_result"
    }
   ],
   "source": [
    "Z' * y"
   ]
  },
  {
   "cell_type": "markdown",
   "metadata": {},
   "source": [
    "The rows of $Z'y$ are the sums of $y$ for each \"level\" of the random effect factors. The \"levels\" of the random effect are unique to each animal. If animal 4 had two records, and therefore two responses, the fourth row would be a sum of the two recorded responses."
   ]
  },
  {
   "cell_type": "markdown",
   "metadata": {},
   "source": [
    "## Coding\n",
    "\n",
    "Now that we have discussed the concept of the MME, we will use the JWAS package to evaluate our example. First, let's build our model equation:"
   ]
  },
  {
   "cell_type": "code",
   "execution_count": 9,
   "metadata": {},
   "outputs": [],
   "source": [
    "var_u = 20\n",
    "var_e = 40\n",
    "\n",
    "model_equation = \"WWG = sex + ID\"\n",
    "R = var_e\n",
    "model = build_model(model_equation, R);"
   ]
  },
  {
   "cell_type": "markdown",
   "metadata": {},
   "source": [
    "Now, we need the pedigree information of our example to correctly calculate the inverse $G$ matrix for our example."
   ]
  },
  {
   "cell_type": "code",
   "execution_count": 10,
   "metadata": {},
   "outputs": [
    {
     "name": "stdout",
     "output_type": "stream",
     "text": [
      "\u001b[31mThe delimiter in pedigree.txt is ','.\u001b[39m\n",
      "Finished!\n"
     ]
    }
   ],
   "source": [
    "ped = data[[:ID, :sire, :dam]]\n",
    "CSV.write(\"pedigree.txt\", ped)\n",
    "\n",
    "pedigree = get_pedigree(\"pedigree.txt\", header=true);"
   ]
  },
  {
   "cell_type": "code",
   "execution_count": 11,
   "metadata": {},
   "outputs": [],
   "source": [
    "G = var_u\n",
    "\n",
    "set_random(model, \"ID\", pedigree, G)"
   ]
  },
  {
   "cell_type": "markdown",
   "metadata": {},
   "source": [
    "We have completed our model! Now, we run MCMC:"
   ]
  },
  {
   "cell_type": "code",
   "execution_count": 12,
   "metadata": {},
   "outputs": [
    {
     "name": "stdout",
     "output_type": "stream",
     "text": [
      "\u001b[0m\u001b[1mA Linear Mixed Model was build using model equations:\u001b[22m\n",
      "\n",
      "WWG = sex + ID\n",
      "\n",
      "\u001b[0m\u001b[1mModel Information:\u001b[22m\n",
      "\n",
      "Term            C/F          F/R            nLevels\n",
      "sex             factor       fixed                2\n",
      "ID              factor       random               9\n",
      "\n",
      "\u001b[0m\u001b[1mMCMC Information:\u001b[22m\n",
      "\n",
      "methods                        conventional (no markers)\n",
      "chain_length                                   5000\n",
      "burnin                                          100\n",
      "estimateScale                                 false\n",
      "starting_value                                false\n",
      "printout_frequency                             5001\n",
      "output_samples_frequency                        100\n",
      "constraint                                    false\n",
      "missing_phenotypes                             true\n",
      "update_priors_frequency                           0\n",
      "\n",
      "\u001b[0m\u001b[1mHyper-parameters Information:\u001b[22m\n",
      "\n",
      "residual variances:                          40.000\n",
      "genetic variances (polygenic):\n",
      "                                             [20.0]\n",
      "\n",
      "\u001b[0m\u001b[1mDegree of freedom for hyper-parameters:\u001b[22m\n",
      "\n",
      "residual variances:                           4.000\n",
      "iid random effect variances:                  4.000\n",
      "polygenic effect variances:                   4.000\n",
      "\n",
      "\n",
      "\n",
      "\u001b[31mThe file MCMC_samples_residual_variance.txt already exists!!! It is overwritten by the new output.\u001b[39m\n",
      "\u001b[31mThe file MCMC_samples_polygenic_effects_variance.txt already exists!!! It is overwritten by the new output.\u001b[39m\n",
      "\u001b[31mThe file MCMC_samples_EBV_WWG.txt already exists!!! It is overwritten by the new output.\u001b[39m\n"
     ]
    },
    {
     "name": "stderr",
     "output_type": "stream",
     "text": [
      "\u001b[32mrunning MCMC for conventional (no markers)...100%|██████| Time: 0:00:01\u001b[39m\n"
     ]
    },
    {
     "data": {
      "text/plain": [
       "Dict{Any,Any} with 4 entries:\n",
       "  \"Posterior mean of polyg… => [17.6022]\n",
       "  \"EBV_WWG\"                 => 9×2 DataFrame…\n",
       "  \"Posterior mean of resid… => 20.6377\n",
       "  \"Posterior mean of locat… => 11×4 DataFrame…"
      ]
     },
     "execution_count": 12,
     "metadata": {},
     "output_type": "execute_result"
    }
   ],
   "source": [
    "outputMCMCsamples(model)\n",
    "out=runMCMC(model,data,chain_length=5000,output_samples_frequency=100,burnin=100)"
   ]
  },
  {
   "cell_type": "markdown",
   "metadata": {},
   "source": [
    "After we run MCMC, we want to look at the dictionary that was created. To make things easier, let's look at the key names of the dictionary:"
   ]
  },
  {
   "cell_type": "code",
   "execution_count": 13,
   "metadata": {},
   "outputs": [
    {
     "data": {
      "text/plain": [
       "Base.KeySet for a Dict{Any,Any} with 4 entries. Keys:\n",
       "  \"Posterior mean of polygenic effects covariance matrix\"\n",
       "  \"EBV_WWG\"\n",
       "  \"Posterior mean of residual variance\"\n",
       "  \"Posterior mean of location parameters\""
      ]
     },
     "execution_count": 13,
     "metadata": {},
     "output_type": "execute_result"
    }
   ],
   "source": [
    "keys(out)"
   ]
  },
  {
   "cell_type": "markdown",
   "metadata": {},
   "source": [
    "Now, let's look at the information stored in the parameter key:"
   ]
  },
  {
   "cell_type": "code",
   "execution_count": 14,
   "metadata": {},
   "outputs": [
    {
     "data": {
      "text/html": [
       "<table class=\"data-frame\"><thead><tr><th></th><th>Trait</th><th>Effect</th><th>Level</th><th>Estimate</th></tr><tr><th></th><th>Any</th><th>Any</th><th>Any</th><th>Any</th></tr></thead><tbody><p>11 rows × 4 columns</p><tr><th>1</th><td>1</td><td>sex</td><td>male</td><td>4.51244</td></tr><tr><th>2</th><td>1</td><td>sex</td><td>female</td><td>3.54517</td></tr><tr><th>3</th><td>1</td><td>ID</td><td>3</td><td>-0.230036</td></tr><tr><th>4</th><td>1</td><td>ID</td><td>1</td><td>0.0954544</td></tr><tr><th>5</th><td>1</td><td>ID</td><td>2</td><td>-0.0957728</td></tr><tr><th>6</th><td>1</td><td>ID</td><td>6</td><td>0.13906</td></tr><tr><th>7</th><td>1</td><td>ID</td><td>8</td><td>0.0598715</td></tr><tr><th>8</th><td>1</td><td>ID</td><td>NA</td><td>-0.0281775</td></tr><tr><th>9</th><td>1</td><td>ID</td><td>4</td><td>-0.022299</td></tr><tr><th>10</th><td>1</td><td>ID</td><td>5</td><td>-0.402696</td></tr><tr><th>11</th><td>1</td><td>ID</td><td>7</td><td>-0.432765</td></tr></tbody></table>"
      ],
      "text/latex": [
       "\\begin{tabular}{r|cccc}\n",
       "\t& Trait & Effect & Level & Estimate\\\\\n",
       "\t\\hline\n",
       "\t& Any & Any & Any & Any\\\\\n",
       "\t\\hline\n",
       "\t1 & 1 & sex & male & 4.51244 \\\\\n",
       "\t2 & 1 & sex & female & 3.54517 \\\\\n",
       "\t3 & 1 & ID & 3 & -0.230036 \\\\\n",
       "\t4 & 1 & ID & 1 & 0.0954544 \\\\\n",
       "\t5 & 1 & ID & 2 & -0.0957728 \\\\\n",
       "\t6 & 1 & ID & 6 & 0.13906 \\\\\n",
       "\t7 & 1 & ID & 8 & 0.0598715 \\\\\n",
       "\t8 & 1 & ID & NA & -0.0281775 \\\\\n",
       "\t9 & 1 & ID & 4 & -0.022299 \\\\\n",
       "\t10 & 1 & ID & 5 & -0.402696 \\\\\n",
       "\t11 & 1 & ID & 7 & -0.432765 \\\\\n",
       "\\end{tabular}\n"
      ],
      "text/plain": [
       "11×4 DataFrame\n",
       "│ Row │ Trait │ Effect │ Level  │ Estimate   │\n",
       "│     │ \u001b[90mAny\u001b[39m   │ \u001b[90mAny\u001b[39m    │ \u001b[90mAny\u001b[39m    │ \u001b[90mAny\u001b[39m        │\n",
       "├─────┼───────┼────────┼────────┼────────────┤\n",
       "│ 1   │ 1     │ sex    │ male   │ 4.51244    │\n",
       "│ 2   │ 1     │ sex    │ female │ 3.54517    │\n",
       "│ 3   │ 1     │ ID     │ 3      │ -0.230036  │\n",
       "│ 4   │ 1     │ ID     │ 1      │ 0.0954544  │\n",
       "│ 5   │ 1     │ ID     │ 2      │ -0.0957728 │\n",
       "│ 6   │ 1     │ ID     │ 6      │ 0.13906    │\n",
       "│ 7   │ 1     │ ID     │ 8      │ 0.0598715  │\n",
       "│ 8   │ 1     │ ID     │ NA     │ -0.0281775 │\n",
       "│ 9   │ 1     │ ID     │ 4      │ -0.022299  │\n",
       "│ 10  │ 1     │ ID     │ 5      │ -0.402696  │\n",
       "│ 11  │ 1     │ ID     │ 7      │ -0.432765  │"
      ]
     },
     "execution_count": 14,
     "metadata": {},
     "output_type": "execute_result"
    }
   ],
   "source": [
    "out[\"Posterior mean of location parameters\"]"
   ]
  },
  {
   "cell_type": "markdown",
   "metadata": {},
   "source": [
    "In Raphael A. Mrode's book, <ins>Linear Models for the Prediction of Animal Breeding Values</ins>, he gets the following results using MME:"
   ]
  },
  {
   "cell_type": "code",
   "execution_count": 15,
   "metadata": {},
   "outputs": [],
   "source": [
    "MME_res = [4.358, 3.404, -0.041, 0.098, -0.019, 0.177, 0.183, 0, -0.009, -0.186, -0.249];"
   ]
  },
  {
   "cell_type": "markdown",
   "metadata": {},
   "source": [
    "To see how our code matches with the MME results, we will look at the correlation between our results and Mrode's results:"
   ]
  },
  {
   "cell_type": "code",
   "execution_count": 16,
   "metadata": {},
   "outputs": [
    {
     "data": {
      "text/plain": [
       "0.9991370372849071"
      ]
     },
     "execution_count": 16,
     "metadata": {},
     "output_type": "execute_result"
    }
   ],
   "source": [
    "MCMC_res = out[\"Posterior mean of location parameters\"]\n",
    "\n",
    "cor(MCMC_res[4], MME_res)"
   ]
  }
 ],
 "metadata": {
  "kernelspec": {
   "display_name": "Julia 1.1.0",
   "language": "julia",
   "name": "julia-1.1"
  },
  "language_info": {
   "file_extension": ".jl",
   "mimetype": "application/julia",
   "name": "julia",
   "version": "1.1.0"
  }
 },
 "nbformat": 4,
 "nbformat_minor": 2
}
