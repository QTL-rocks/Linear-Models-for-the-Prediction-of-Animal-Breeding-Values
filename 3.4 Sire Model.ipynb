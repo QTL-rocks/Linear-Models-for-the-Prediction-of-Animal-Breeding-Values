{
 "cells": [
  {
   "cell_type": "markdown",
   "metadata": {},
   "source": [
    "# Chapter 3.4\n",
    "## Sire Model\n",
    "Abhilash Dhal"
   ]
  },
  {
   "cell_type": "markdown",
   "metadata": {},
   "source": [
    "Consider the following data set for the pre-weaning gain (WWG) of beef calves (calves assumed to be reared under the same management conditions). The objective is to estimate sex effects and predict breeding values for sires only (1, 3 and 4). The data set is obtained from the example 3.3\n",
    "\n",
    "Assume $\\sigma^2_a = 20$ and $\\sigma^2_e = 40$, $\\sigma^2_s = 0.25(\\sigma^2_a)$, $\\alpha = \\frac{\\sigma^2_e}{\\sigma^2_s}$\n"
   ]
  },
  {
   "cell_type": "code",
   "execution_count": 1,
   "metadata": {},
   "outputs": [],
   "source": [
    "using JWAS, DataFrames"
   ]
  },
  {
   "cell_type": "code",
   "execution_count": 13,
   "metadata": {},
   "outputs": [
    {
     "data": {
      "text/html": [
       "<table class=\"data-frame\"><thead><tr><th></th><th>sexofprogeny</th><th>sire</th><th>sireofsire</th><th>damofsire</th><th>WWG</th></tr><tr><th></th><th>String</th><th>Int64</th><th>Int64⍰</th><th>Missing</th><th>Float64</th></tr></thead><tbody><p>5 rows × 5 columns</p><tr><th>1</th><td>male</td><td>1</td><td>missing</td><td>missing</td><td>4.5</td></tr><tr><th>2</th><td>female</td><td>3</td><td>missing</td><td>missing</td><td>2.9</td></tr><tr><th>3</th><td>female</td><td>1</td><td>missing</td><td>missing</td><td>3.9</td></tr><tr><th>4</th><td>male</td><td>4</td><td>1</td><td>missing</td><td>3.5</td></tr><tr><th>5</th><td>male</td><td>3</td><td>missing</td><td>missing</td><td>5.0</td></tr></tbody></table>"
      ],
      "text/latex": [
       "\\begin{tabular}{r|ccccc}\n",
       "\t& sexofprogeny & sire & sireofsire & damofsire & WWG\\\\\n",
       "\t\\hline\n",
       "\t& String & Int64 & Int64⍰ & Missing & Float64\\\\\n",
       "\t\\hline\n",
       "\t1 & male & 1 &  &  & 4.5 \\\\\n",
       "\t2 & female & 3 &  &  & 2.9 \\\\\n",
       "\t3 & female & 1 &  &  & 3.9 \\\\\n",
       "\t4 & male & 4 & 1 &  & 3.5 \\\\\n",
       "\t5 & male & 3 &  &  & 5.0 \\\\\n",
       "\\end{tabular}\n"
      ],
      "text/plain": [
       "5×5 DataFrame\n",
       "│ Row │ sexofprogeny │ sire  │ sireofsire │ damofsire │ WWG     │\n",
       "│     │ \u001b[90mString\u001b[39m       │ \u001b[90mInt64\u001b[39m │ \u001b[90mInt64⍰\u001b[39m     │ \u001b[90mMissing\u001b[39m   │ \u001b[90mFloat64\u001b[39m │\n",
       "├─────┼──────────────┼───────┼────────────┼───────────┼─────────┤\n",
       "│ 1   │ male         │ 1     │ \u001b[90mmissing\u001b[39m    │ \u001b[90mmissing\u001b[39m   │ 4.5     │\n",
       "│ 2   │ female       │ 3     │ \u001b[90mmissing\u001b[39m    │ \u001b[90mmissing\u001b[39m   │ 2.9     │\n",
       "│ 3   │ female       │ 1     │ \u001b[90mmissing\u001b[39m    │ \u001b[90mmissing\u001b[39m   │ 3.9     │\n",
       "│ 4   │ male         │ 4     │ 1          │ \u001b[90mmissing\u001b[39m   │ 3.5     │\n",
       "│ 5   │ male         │ 3     │ \u001b[90mmissing\u001b[39m    │ \u001b[90mmissing\u001b[39m   │ 5.0     │"
      ]
     },
     "execution_count": 13,
     "metadata": {},
     "output_type": "execute_result"
    }
   ],
   "source": [
    "data = DataFrame(sexofprogeny=[\"male\",\"female\",\"female\",\"male\",\"male\"], sire=[1,3,1,4,3], sireofsire=[missing,missing,missing,1,missing], damofsire=[missing,missing,missing,missing,missing], WWG=[4.5,2.9,3.9,3.5,5.0])"
   ]
  },
  {
   "cell_type": "markdown",
   "metadata": {},
   "source": [
    "The model to describe the observations is:\n",
    "\n",
    "<center>$y_{ij} = p_i + a_j +e_{ij}$</center>\n",
    "\n",
    "or\n",
    "\n",
    "<center>$Y = Xb + Zs + e$</center>\n",
    "\n",
    "where: \n",
    "\n",
    "$y_{ij} = $ the WWG of the $j$th sire's progeny for the $i$th sex\n",
    "\n",
    "$p_i = $ the fixed effect of the $i$th sex of the sire's progeny\n",
    "\n",
    "$a_j = $ the random effect of the $j$th sire\n",
    "\n",
    "$e_{ij} = $ the random error effect"
   ]
  },
  {
   "cell_type": "code",
   "execution_count": 14,
   "metadata": {},
   "outputs": [],
   "source": [
    "y = [4.5, 2.9, 3.9, 3.5, 5.0]\n",
    "\n",
    "X = [1 0; 0 1; 0 1; 1 0; 1 0]\n",
    "b = [\"male\", \"female\"];\n"
   ]
  },
  {
   "cell_type": "markdown",
   "metadata": {},
   "source": [
    "The design matrix for fixed effects(sex for sire's progeny) is the same as the random animal effects model.\n",
    "\n",
    "However, in the sire model since we consider the random effects of the sire, the Z matrix will be of dimensions(5,3)"
   ]
  },
  {
   "cell_type": "code",
   "execution_count": 15,
   "metadata": {},
   "outputs": [],
   "source": [
    "Z = [1 0 0 \n",
    "     0 1 0 \n",
    "     1 0 0 \n",
    "     0 0 1 \n",
    "     0 1 0]\n",
    "s = [\"sBV1\", \"sBV3\", \"sBV4\"];"
   ]
  },
  {
   "cell_type": "code",
   "execution_count": 16,
   "metadata": {},
   "outputs": [
    {
     "data": {
      "text/plain": [
       "3-element Array{Float64,1}:\n",
       " 8.4\n",
       " 7.9\n",
       " 3.5"
      ]
     },
     "execution_count": 16,
     "metadata": {},
     "output_type": "execute_result"
    }
   ],
   "source": [
    "xpx =  X'X;\n",
    "xpz = X'Z;\n",
    "zpx = Z'X;\n",
    "zpz = Z'Z;\n",
    "xpy = X'y;\n",
    "zpy = Z'y"
   ]
  },
  {
   "cell_type": "code",
   "execution_count": 60,
   "metadata": {},
   "outputs": [
    {
     "data": {
      "text/plain": [
       "\"WWG = sexofprogeny + sire\""
      ]
     },
     "execution_count": 60,
     "metadata": {},
     "output_type": "execute_result"
    }
   ],
   "source": [
    "model_equation = \"WWG = sexofprogeny + sire\""
   ]
  },
  {
   "cell_type": "code",
   "execution_count": 61,
   "metadata": {},
   "outputs": [],
   "source": [
    "R = 55.0 ;\n",
    "G = 0.25(20.0);"
   ]
  },
  {
   "cell_type": "code",
   "execution_count": 62,
   "metadata": {},
   "outputs": [],
   "source": [
    "model1 = build_model(model_equation,R);\n",
    "set_random(model1,\"sire\",G);"
   ]
  },
  {
   "cell_type": "code",
   "execution_count": 63,
   "metadata": {},
   "outputs": [],
   "source": [
    "outputMCMCsamples(model1,\"sire\");"
   ]
  },
  {
   "cell_type": "code",
   "execution_count": 64,
   "metadata": {},
   "outputs": [
    {
     "name": "stdout",
     "output_type": "stream",
     "text": [
      "\u001b[0m\u001b[1mA Linear Mixed Model was build using model equations:\u001b[22m\n",
      "\n",
      "WWG = sexofprogeny + sire\n",
      "\n",
      "\u001b[0m\u001b[1mModel Information:\u001b[22m\n",
      "\n",
      "Term            C/F          F/R            nLevels\n",
      "sexofprogeny    factor       fixed                2\n",
      "sire            factor       random               3\n",
      "\n",
      "\u001b[0m\u001b[1mMCMC Information:\u001b[22m\n",
      "\n",
      "methods                        conventional (no markers)\n",
      "chain_length                                  50000\n",
      "burnin                                            0\n",
      "estimateScale                                 false\n",
      "starting_value                                false\n",
      "printout_frequency                            50001\n",
      "output_samples_frequency                        100\n",
      "constraint                                    false\n",
      "missing_phenotypes                             true\n",
      "update_priors_frequency                           0\n",
      "\n",
      "\u001b[0m\u001b[1mHyper-parameters Information:\u001b[22m\n",
      "\n",
      "random effect variances (sire):                [5.0]\n",
      "residual variances:                          55.000\n",
      "\n",
      "\u001b[0m\u001b[1mDegree of freedom for hyper-parameters:\u001b[22m\n",
      "\n",
      "residual variances:                           4.000\n",
      "iid random effect variances:                  4.000\n",
      "\n",
      "\n",
      "\n",
      "\u001b[31mThe file MCMC_samples_residual_variance.txt already exists!!! It is overwritten by the new output.\u001b[39m\n",
      "\u001b[31mThe file MCMC_samples_1:sire.txt already exists!!! It is overwritten by the new output.\u001b[39m\n",
      "\u001b[31mThe file MCMC_samples_sire_variances.txt already exists!!! It is overwritten by the new output.\u001b[39m\n"
     ]
    },
    {
     "name": "stderr",
     "output_type": "stream",
     "text": [
      "\u001b[32mrunning MCMC for conventional (no markers)...100%|██████| Time: 0:00:01\u001b[39m\n"
     ]
    }
   ],
   "source": [
    "out2=runMCMC(model1, data, chain_length=50000,output_samples_frequency=100,outputEBV=true);"
   ]
  },
  {
   "cell_type": "code",
   "execution_count": 65,
   "metadata": {},
   "outputs": [
    {
     "data": {
      "text/plain": [
       "Base.KeySet for a Dict{Any,Any} with 2 entries. Keys:\n",
       "  \"Posterior mean of residual variance\"\n",
       "  \"Posterior mean of location parameters\""
      ]
     },
     "execution_count": 65,
     "metadata": {},
     "output_type": "execute_result"
    }
   ],
   "source": [
    "keys(out2)"
   ]
  },
  {
   "cell_type": "code",
   "execution_count": 66,
   "metadata": {},
   "outputs": [
    {
     "data": {
      "text/plain": [
       "5-element Array{Any,1}:\n",
       "  4.315090753598826  \n",
       "  3.335851144862729  \n",
       "  0.09417901945239061\n",
       "  0.0367033041856141 \n",
       " -0.145897248320225  "
      ]
     },
     "execution_count": 66,
     "metadata": {},
     "output_type": "execute_result"
    }
   ],
   "source": [
    "JWAS_sol = out2[\"Posterior mean of location parameters\"][:, 4]"
   ]
  },
  {
   "cell_type": "code",
   "execution_count": 70,
   "metadata": {},
   "outputs": [
    {
     "data": {
      "text/plain": [
       "3-element Array{Any,1}:\n",
       "  0.09417901945239061\n",
       "  0.0367033041856141 \n",
       " -0.145897248320225  "
      ]
     },
     "execution_count": 70,
     "metadata": {},
     "output_type": "execute_result"
    }
   ],
   "source": [
    "JWAS_sol[3:5]"
   ]
  },
  {
   "cell_type": "code",
   "execution_count": 71,
   "metadata": {},
   "outputs": [
    {
     "data": {
      "text/plain": [
       "3×1 LinearAlgebra.Adjoint{Float64,Array{Float64,2}}:\n",
       "  0.022\n",
       "  0.014\n",
       " -0.043"
      ]
     },
     "execution_count": 71,
     "metadata": {},
     "output_type": "execute_result"
    }
   ],
   "source": [
    "MME_Sol = [0.022 0.014 -0.043]'"
   ]
  },
  {
   "cell_type": "code",
   "execution_count": 73,
   "metadata": {},
   "outputs": [
    {
     "data": {
      "text/plain": [
       "1×1 LinearAlgebra.Transpose{Float64,Array{Float64,1}}:\n",
       " 0.9930205364328477"
      ]
     },
     "execution_count": 73,
     "metadata": {},
     "output_type": "execute_result"
    }
   ],
   "source": [
    "cor(JWAS_sol[3:5], MME_Sol)"
   ]
  },
  {
   "cell_type": "code",
   "execution_count": null,
   "metadata": {},
   "outputs": [],
   "source": []
  }
 ],
 "metadata": {
  "kernelspec": {
   "display_name": "Julia 1.1.0",
   "language": "julia",
   "name": "julia-1.1"
  },
  "language_info": {
   "file_extension": ".jl",
   "mimetype": "application/julia",
   "name": "julia",
   "version": "1.1.0"
  }
 },
 "nbformat": 4,
 "nbformat_minor": 2
}
